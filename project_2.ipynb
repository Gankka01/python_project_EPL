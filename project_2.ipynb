{
 "cells": [
  {
   "cell_type": "markdown",
   "id": "c2074932-8e7c-4df9-a007-568c4fa9618e",
   "metadata": {},
   "source": [
    "# 파이썬 데이터분석 프로젝트\n",
    "\n",
    "### 프리미어리그 데이터 분석을 통한 토트넘의 성적 알아보기\n",
    "\n",
    "<b>[토트넘은 왜 우승을 하지 못하는가?]</b>\n",
    "\n",
    "<div style = \"text-align: right\"> <b>산업데이터사이언스학부 201902405 장원익</b><div>\n",
    "    \n",
    "_______________________________________________________________"
   ]
  },
  {
   "cell_type": "markdown",
   "id": "6570fbca-fce3-4601-99b8-d81887b84532",
   "metadata": {},
   "source": [
    "### 사용한 데이터\n",
    "\n",
    "English Premier League (EPL) Results (https://www.kaggle.com/datasets/irkaal/english-premier-league-results)\n",
    "\n",
    "잉글랜드 프리미어리그의 경기 결과 데이터.\n",
    "\n",
    "데이터 딕셔너리는 다음과 같습니다.\n",
    "\n",
    "| 컬럼 이름 | 데이터 의미 |\n",
    "|:-----:|:-----|\n",
    "|Season |Match Season|\n",
    "|DateTime |Match Date and Time (yyyy-mm-dd hhmmss)|\n",
    "|HomeTeam |Home Team|\n",
    "|AwayTeam |Away Team|\n",
    "|FTHG |Full Time Home Team Goals|\n",
    "|FTAG |Full Time Away Team Goals|\n",
    "|FTR |Full Time Result (H=Home Win, D=Draw, A=Away Win)|\n",
    "|HTHG |Half Time Home Team Goals|\n",
    "|HTAG |Half Time Away Team Goals|\n",
    "|HTR |Half Time Result (H=Home Win, D=Draw, A=Away Win)|\n",
    "|Referee |Match Referee|\n",
    "|HS |Home Team Shots|\n",
    "|AS |Away Team Shots|\n",
    "|HST |Home Team Shots on Target|\n",
    "|AST |Away Team Shots on Target|\n",
    "|HC |Home Team Corners|\n",
    "|AC |Away Team Corners|\n",
    "|HF |Home Team Fouls Committed|\n",
    "|AF |Away Team Fouls Committed|\n",
    "|HY |Home Team Yellow Cards|\n",
    "|AY |Away Team Yellow Cards|\n",
    "|HR |Home Team Red Cards|\n",
    "|AR |Away Team Red Cards|\n",
    "\n",
    "_______________"
   ]
  },
  {
   "cell_type": "markdown",
   "id": "965236b1-fc40-4e76-94a4-45181d652fdb",
   "metadata": {},
   "source": [
    "시작하기에 앞서 사용할 모듈들을 import합니다."
   ]
  },
  {
   "cell_type": "code",
   "execution_count": 161,
   "id": "1f81276f-958f-4eb0-8f2f-bfc4ad560be3",
   "metadata": {},
   "outputs": [],
   "source": [
    "import pandas as pd\n",
    "import numpy as np\n",
    "import matplotlib.pyplot as plt"
   ]
  },
  {
   "cell_type": "markdown",
   "id": "c2859fca-c1e4-45b4-9b42-63c07d084ebf",
   "metadata": {},
   "source": [
    "사용할 데이터를 불러옵니다"
   ]
  },
  {
   "cell_type": "code",
   "execution_count": 162,
   "id": "71a064dc-a44a-4d97-a6a9-503e446b46ba",
   "metadata": {},
   "outputs": [],
   "source": [
    "leage = pd.read_csv('archive/results.csv', encoding = 'cp949')"
   ]
  },
  {
   "cell_type": "markdown",
   "id": "aaaa6388-a6c5-4cc3-b858-db844ef6121d",
   "metadata": {},
   "source": [
    "데이터를 확인합니다."
   ]
  },
  {
   "cell_type": "code",
   "execution_count": 163,
   "id": "923b49c1-0cf5-4a50-9dae-598986d84764",
   "metadata": {},
   "outputs": [
    {
     "data": {
      "text/html": [
       "<div>\n",
       "<style scoped>\n",
       "    .dataframe tbody tr th:only-of-type {\n",
       "        vertical-align: middle;\n",
       "    }\n",
       "\n",
       "    .dataframe tbody tr th {\n",
       "        vertical-align: top;\n",
       "    }\n",
       "\n",
       "    .dataframe thead th {\n",
       "        text-align: right;\n",
       "    }\n",
       "</style>\n",
       "<table border=\"1\" class=\"dataframe\">\n",
       "  <thead>\n",
       "    <tr style=\"text-align: right;\">\n",
       "      <th></th>\n",
       "      <th>Season</th>\n",
       "      <th>DateTime</th>\n",
       "      <th>HomeTeam</th>\n",
       "      <th>AwayTeam</th>\n",
       "      <th>FTHG</th>\n",
       "      <th>FTAG</th>\n",
       "      <th>FTR</th>\n",
       "      <th>HTHG</th>\n",
       "      <th>HTAG</th>\n",
       "      <th>HTR</th>\n",
       "      <th>...</th>\n",
       "      <th>HST</th>\n",
       "      <th>AST</th>\n",
       "      <th>HC</th>\n",
       "      <th>AC</th>\n",
       "      <th>HF</th>\n",
       "      <th>AF</th>\n",
       "      <th>HY</th>\n",
       "      <th>AY</th>\n",
       "      <th>HR</th>\n",
       "      <th>AR</th>\n",
       "    </tr>\n",
       "  </thead>\n",
       "  <tbody>\n",
       "    <tr>\n",
       "      <th>3898</th>\n",
       "      <td>2002-03</td>\n",
       "      <td>2003-04-05T00:00:00Z</td>\n",
       "      <td>Middlesbrough</td>\n",
       "      <td>West Brom</td>\n",
       "      <td>3</td>\n",
       "      <td>0</td>\n",
       "      <td>H</td>\n",
       "      <td>1.0</td>\n",
       "      <td>0.0</td>\n",
       "      <td>H</td>\n",
       "      <td>...</td>\n",
       "      <td>12.0</td>\n",
       "      <td>6.0</td>\n",
       "      <td>3.0</td>\n",
       "      <td>5.0</td>\n",
       "      <td>9.0</td>\n",
       "      <td>15.0</td>\n",
       "      <td>0.0</td>\n",
       "      <td>1.0</td>\n",
       "      <td>0.0</td>\n",
       "      <td>0.0</td>\n",
       "    </tr>\n",
       "    <tr>\n",
       "      <th>2363</th>\n",
       "      <td>1998-99</td>\n",
       "      <td>1999-04-03T00:00:00Z</td>\n",
       "      <td>Derby</td>\n",
       "      <td>Newcastle</td>\n",
       "      <td>3</td>\n",
       "      <td>4</td>\n",
       "      <td>A</td>\n",
       "      <td>2.0</td>\n",
       "      <td>3.0</td>\n",
       "      <td>A</td>\n",
       "      <td>...</td>\n",
       "      <td>NaN</td>\n",
       "      <td>NaN</td>\n",
       "      <td>NaN</td>\n",
       "      <td>NaN</td>\n",
       "      <td>NaN</td>\n",
       "      <td>NaN</td>\n",
       "      <td>NaN</td>\n",
       "      <td>NaN</td>\n",
       "      <td>NaN</td>\n",
       "      <td>NaN</td>\n",
       "    </tr>\n",
       "    <tr>\n",
       "      <th>6827</th>\n",
       "      <td>2010-11</td>\n",
       "      <td>2011-01-05T00:00:00Z</td>\n",
       "      <td>Arsenal</td>\n",
       "      <td>Man City</td>\n",
       "      <td>0</td>\n",
       "      <td>0</td>\n",
       "      <td>D</td>\n",
       "      <td>0.0</td>\n",
       "      <td>0.0</td>\n",
       "      <td>D</td>\n",
       "      <td>...</td>\n",
       "      <td>8.0</td>\n",
       "      <td>0.0</td>\n",
       "      <td>7.0</td>\n",
       "      <td>2.0</td>\n",
       "      <td>6.0</td>\n",
       "      <td>12.0</td>\n",
       "      <td>0.0</td>\n",
       "      <td>2.0</td>\n",
       "      <td>1.0</td>\n",
       "      <td>1.0</td>\n",
       "    </tr>\n",
       "    <tr>\n",
       "      <th>4286</th>\n",
       "      <td>2003-04</td>\n",
       "      <td>2004-04-12T00:00:00Z</td>\n",
       "      <td>Portsmouth</td>\n",
       "      <td>Birmingham</td>\n",
       "      <td>3</td>\n",
       "      <td>1</td>\n",
       "      <td>H</td>\n",
       "      <td>1.0</td>\n",
       "      <td>0.0</td>\n",
       "      <td>H</td>\n",
       "      <td>...</td>\n",
       "      <td>6.0</td>\n",
       "      <td>2.0</td>\n",
       "      <td>4.0</td>\n",
       "      <td>4.0</td>\n",
       "      <td>19.0</td>\n",
       "      <td>11.0</td>\n",
       "      <td>1.0</td>\n",
       "      <td>2.0</td>\n",
       "      <td>0.0</td>\n",
       "      <td>1.0</td>\n",
       "    </tr>\n",
       "    <tr>\n",
       "      <th>5710</th>\n",
       "      <td>2007-08</td>\n",
       "      <td>2008-01-20T00:00:00Z</td>\n",
       "      <td>Man City</td>\n",
       "      <td>West Ham</td>\n",
       "      <td>1</td>\n",
       "      <td>1</td>\n",
       "      <td>D</td>\n",
       "      <td>1.0</td>\n",
       "      <td>1.0</td>\n",
       "      <td>D</td>\n",
       "      <td>...</td>\n",
       "      <td>6.0</td>\n",
       "      <td>5.0</td>\n",
       "      <td>5.0</td>\n",
       "      <td>10.0</td>\n",
       "      <td>15.0</td>\n",
       "      <td>20.0</td>\n",
       "      <td>2.0</td>\n",
       "      <td>4.0</td>\n",
       "      <td>0.0</td>\n",
       "      <td>0.0</td>\n",
       "    </tr>\n",
       "    <tr>\n",
       "      <th>6279</th>\n",
       "      <td>2009-10</td>\n",
       "      <td>2009-08-30T00:00:00Z</td>\n",
       "      <td>Portsmouth</td>\n",
       "      <td>Man City</td>\n",
       "      <td>0</td>\n",
       "      <td>1</td>\n",
       "      <td>A</td>\n",
       "      <td>0.0</td>\n",
       "      <td>1.0</td>\n",
       "      <td>A</td>\n",
       "      <td>...</td>\n",
       "      <td>6.0</td>\n",
       "      <td>8.0</td>\n",
       "      <td>3.0</td>\n",
       "      <td>11.0</td>\n",
       "      <td>12.0</td>\n",
       "      <td>7.0</td>\n",
       "      <td>2.0</td>\n",
       "      <td>1.0</td>\n",
       "      <td>0.0</td>\n",
       "      <td>0.0</td>\n",
       "    </tr>\n",
       "    <tr>\n",
       "      <th>11055</th>\n",
       "      <td>2021-22</td>\n",
       "      <td>2022-02-26T15:00:00Z</td>\n",
       "      <td>Crystal Palace</td>\n",
       "      <td>Burnley</td>\n",
       "      <td>1</td>\n",
       "      <td>1</td>\n",
       "      <td>D</td>\n",
       "      <td>1.0</td>\n",
       "      <td>0.0</td>\n",
       "      <td>H</td>\n",
       "      <td>...</td>\n",
       "      <td>4.0</td>\n",
       "      <td>1.0</td>\n",
       "      <td>5.0</td>\n",
       "      <td>4.0</td>\n",
       "      <td>5.0</td>\n",
       "      <td>17.0</td>\n",
       "      <td>0.0</td>\n",
       "      <td>2.0</td>\n",
       "      <td>0.0</td>\n",
       "      <td>0.0</td>\n",
       "    </tr>\n",
       "    <tr>\n",
       "      <th>1718</th>\n",
       "      <td>1997-98</td>\n",
       "      <td>1997-08-27T00:00:00Z</td>\n",
       "      <td>Tottenham</td>\n",
       "      <td>Aston Villa</td>\n",
       "      <td>3</td>\n",
       "      <td>2</td>\n",
       "      <td>H</td>\n",
       "      <td>1.0</td>\n",
       "      <td>1.0</td>\n",
       "      <td>D</td>\n",
       "      <td>...</td>\n",
       "      <td>NaN</td>\n",
       "      <td>NaN</td>\n",
       "      <td>NaN</td>\n",
       "      <td>NaN</td>\n",
       "      <td>NaN</td>\n",
       "      <td>NaN</td>\n",
       "      <td>NaN</td>\n",
       "      <td>NaN</td>\n",
       "      <td>NaN</td>\n",
       "      <td>NaN</td>\n",
       "    </tr>\n",
       "    <tr>\n",
       "      <th>558</th>\n",
       "      <td>1994-95</td>\n",
       "      <td>1994-10-09T00:00:00Z</td>\n",
       "      <td>Newcastle</td>\n",
       "      <td>Blackburn</td>\n",
       "      <td>1</td>\n",
       "      <td>1</td>\n",
       "      <td>D</td>\n",
       "      <td>NaN</td>\n",
       "      <td>NaN</td>\n",
       "      <td>NaN</td>\n",
       "      <td>...</td>\n",
       "      <td>NaN</td>\n",
       "      <td>NaN</td>\n",
       "      <td>NaN</td>\n",
       "      <td>NaN</td>\n",
       "      <td>NaN</td>\n",
       "      <td>NaN</td>\n",
       "      <td>NaN</td>\n",
       "      <td>NaN</td>\n",
       "      <td>NaN</td>\n",
       "      <td>NaN</td>\n",
       "    </tr>\n",
       "    <tr>\n",
       "      <th>67</th>\n",
       "      <td>1993-94</td>\n",
       "      <td>1993-09-11T00:00:00Z</td>\n",
       "      <td>Aston Villa</td>\n",
       "      <td>Coventry</td>\n",
       "      <td>0</td>\n",
       "      <td>0</td>\n",
       "      <td>D</td>\n",
       "      <td>NaN</td>\n",
       "      <td>NaN</td>\n",
       "      <td>NaN</td>\n",
       "      <td>...</td>\n",
       "      <td>NaN</td>\n",
       "      <td>NaN</td>\n",
       "      <td>NaN</td>\n",
       "      <td>NaN</td>\n",
       "      <td>NaN</td>\n",
       "      <td>NaN</td>\n",
       "      <td>NaN</td>\n",
       "      <td>NaN</td>\n",
       "      <td>NaN</td>\n",
       "      <td>NaN</td>\n",
       "    </tr>\n",
       "  </tbody>\n",
       "</table>\n",
       "<p>10 rows × 23 columns</p>\n",
       "</div>"
      ],
      "text/plain": [
       "        Season              DateTime        HomeTeam     AwayTeam  FTHG  FTAG   \n",
       "3898   2002-03  2003-04-05T00:00:00Z   Middlesbrough    West Brom     3     0  \\\n",
       "2363   1998-99  1999-04-03T00:00:00Z           Derby    Newcastle     3     4   \n",
       "6827   2010-11  2011-01-05T00:00:00Z         Arsenal     Man City     0     0   \n",
       "4286   2003-04  2004-04-12T00:00:00Z      Portsmouth   Birmingham     3     1   \n",
       "5710   2007-08  2008-01-20T00:00:00Z        Man City     West Ham     1     1   \n",
       "6279   2009-10  2009-08-30T00:00:00Z      Portsmouth     Man City     0     1   \n",
       "11055  2021-22  2022-02-26T15:00:00Z  Crystal Palace      Burnley     1     1   \n",
       "1718   1997-98  1997-08-27T00:00:00Z       Tottenham  Aston Villa     3     2   \n",
       "558    1994-95  1994-10-09T00:00:00Z       Newcastle    Blackburn     1     1   \n",
       "67     1993-94  1993-09-11T00:00:00Z     Aston Villa     Coventry     0     0   \n",
       "\n",
       "      FTR  HTHG  HTAG  HTR  ...   HST  AST   HC    AC    HF    AF   HY   AY   \n",
       "3898    H   1.0   0.0    H  ...  12.0  6.0  3.0   5.0   9.0  15.0  0.0  1.0  \\\n",
       "2363    A   2.0   3.0    A  ...   NaN  NaN  NaN   NaN   NaN   NaN  NaN  NaN   \n",
       "6827    D   0.0   0.0    D  ...   8.0  0.0  7.0   2.0   6.0  12.0  0.0  2.0   \n",
       "4286    H   1.0   0.0    H  ...   6.0  2.0  4.0   4.0  19.0  11.0  1.0  2.0   \n",
       "5710    D   1.0   1.0    D  ...   6.0  5.0  5.0  10.0  15.0  20.0  2.0  4.0   \n",
       "6279    A   0.0   1.0    A  ...   6.0  8.0  3.0  11.0  12.0   7.0  2.0  1.0   \n",
       "11055   D   1.0   0.0    H  ...   4.0  1.0  5.0   4.0   5.0  17.0  0.0  2.0   \n",
       "1718    H   1.0   1.0    D  ...   NaN  NaN  NaN   NaN   NaN   NaN  NaN  NaN   \n",
       "558     D   NaN   NaN  NaN  ...   NaN  NaN  NaN   NaN   NaN   NaN  NaN  NaN   \n",
       "67      D   NaN   NaN  NaN  ...   NaN  NaN  NaN   NaN   NaN   NaN  NaN  NaN   \n",
       "\n",
       "        HR   AR  \n",
       "3898   0.0  0.0  \n",
       "2363   NaN  NaN  \n",
       "6827   1.0  1.0  \n",
       "4286   0.0  1.0  \n",
       "5710   0.0  0.0  \n",
       "6279   0.0  0.0  \n",
       "11055  0.0  0.0  \n",
       "1718   NaN  NaN  \n",
       "558    NaN  NaN  \n",
       "67     NaN  NaN  \n",
       "\n",
       "[10 rows x 23 columns]"
      ]
     },
     "execution_count": 163,
     "metadata": {},
     "output_type": "execute_result"
    }
   ],
   "source": [
    "leage.sample(10)"
   ]
  },
  {
   "cell_type": "code",
   "execution_count": 164,
   "id": "8219352e-3db9-47c9-ab94-d827aa2159f7",
   "metadata": {},
   "outputs": [
    {
     "data": {
      "text/plain": [
       "Season       object\n",
       "DateTime     object\n",
       "HomeTeam     object\n",
       "AwayTeam     object\n",
       "FTHG          int64\n",
       "FTAG          int64\n",
       "FTR          object\n",
       "HTHG        float64\n",
       "HTAG        float64\n",
       "HTR          object\n",
       "Referee      object\n",
       "HS          float64\n",
       "AS          float64\n",
       "HST         float64\n",
       "AST         float64\n",
       "HC          float64\n",
       "AC          float64\n",
       "HF          float64\n",
       "AF          float64\n",
       "HY          float64\n",
       "AY          float64\n",
       "HR          float64\n",
       "AR          float64\n",
       "dtype: object"
      ]
     },
     "execution_count": 164,
     "metadata": {},
     "output_type": "execute_result"
    }
   ],
   "source": [
    "leage.dtypes"
   ]
  },
  {
   "cell_type": "code",
   "execution_count": 165,
   "id": "231a1762-7e5b-4a87-9f62-8f298863d79e",
   "metadata": {},
   "outputs": [
    {
     "data": {
      "text/plain": [
       "Season                   object\n",
       "DateTime    datetime64[ns, UTC]\n",
       "HomeTeam                 object\n",
       "AwayTeam                 object\n",
       "FTHG                      int64\n",
       "FTAG                      int64\n",
       "FTR                      object\n",
       "HTHG                    float64\n",
       "HTAG                    float64\n",
       "HTR                      object\n",
       "Referee                  object\n",
       "HS                      float64\n",
       "AS                      float64\n",
       "HST                     float64\n",
       "AST                     float64\n",
       "HC                      float64\n",
       "AC                      float64\n",
       "HF                      float64\n",
       "AF                      float64\n",
       "HY                      float64\n",
       "AY                      float64\n",
       "HR                      float64\n",
       "AR                      float64\n",
       "dtype: object"
      ]
     },
     "execution_count": 165,
     "metadata": {},
     "output_type": "execute_result"
    }
   ],
   "source": [
    "#DateTime을 시간 데이터로 변환\n",
    "leage.DateTime = pd.to_datetime(leage.DateTime)\n",
    "leage.dtypes"
   ]
  },
  {
   "cell_type": "markdown",
   "id": "7b3b07bd-b208-4842-9a17-f50ab1607b49",
   "metadata": {},
   "source": [
    "데이터가 아주 크지 않고 메모리 용량이 넉넉하므로 데이터의 크기를 줄이는 작업 등은 생략하도록 합니다.\n",
    "\n",
    "__________"
   ]
  },
  {
   "cell_type": "markdown",
   "id": "8f73f6da-d15b-43bf-a780-dca2d9cd3807",
   "metadata": {},
   "source": [
    "너무 옛날의 데이터이면서 데이터의 상당 부분이 NA값인 2000년도 이전의 값을 지워 주도록 합시다."
   ]
  },
  {
   "cell_type": "code",
   "execution_count": 166,
   "id": "cc29a8db-cad2-43de-8026-225ae6a02dec",
   "metadata": {},
   "outputs": [
    {
     "data": {
      "text/plain": [
       "Season\n",
       "2000-01    380\n",
       "2001-02    380\n",
       "2020-21    380\n",
       "2019-20    380\n",
       "2018-19    380\n",
       "2017-18    380\n",
       "2016-17    380\n",
       "2015-16    380\n",
       "2014-15    380\n",
       "2013-14    380\n",
       "2012-13    380\n",
       "2011-12    380\n",
       "2010-11    380\n",
       "2009-10    380\n",
       "2008-09    380\n",
       "2007-08    380\n",
       "2006-07    380\n",
       "2005-06    380\n",
       "2004-05    380\n",
       "2003-04    380\n",
       "2002-03    380\n",
       "2021-22    309\n",
       "Name: count, dtype: int64"
      ]
     },
     "execution_count": 166,
     "metadata": {},
     "output_type": "execute_result"
    }
   ],
   "source": [
    "leage = leage.sort_values(by = ['Season', 'DateTime'])\n",
    "\n",
    "leage.Season.value_counts() #Season의 형태를 알아봅니다.\n",
    "leage_00 = leage[leage.Season >= '2000-01'] #2000-01시즌 이후의 데이터만 남깁니다.\n",
    "leage_00.Season.value_counts() #원하는 대로 잘 삭제되었는지 확인"
   ]
  },
  {
   "cell_type": "markdown",
   "id": "203d620c-04b0-4f5c-ab4c-1a52acc1e1ed",
   "metadata": {},
   "source": [
    "2021 - 22 시즌의 데이터는 완성되지 않았습니다. 해당 데이터도 사용하지 않겠습니다."
   ]
  },
  {
   "cell_type": "code",
   "execution_count": 167,
   "id": "0b82f3a7-917e-457e-8b35-b0f0495e9b88",
   "metadata": {},
   "outputs": [
    {
     "data": {
      "text/plain": [
       "Season\n",
       "2000-01    380\n",
       "2011-12    380\n",
       "2019-20    380\n",
       "2018-19    380\n",
       "2017-18    380\n",
       "2016-17    380\n",
       "2015-16    380\n",
       "2014-15    380\n",
       "2013-14    380\n",
       "2012-13    380\n",
       "2010-11    380\n",
       "2001-02    380\n",
       "2009-10    380\n",
       "2008-09    380\n",
       "2007-08    380\n",
       "2006-07    380\n",
       "2005-06    380\n",
       "2004-05    380\n",
       "2003-04    380\n",
       "2002-03    380\n",
       "2020-21    380\n",
       "Name: count, dtype: int64"
      ]
     },
     "execution_count": 167,
     "metadata": {},
     "output_type": "execute_result"
    }
   ],
   "source": [
    "leage_00 = leage_00[leage_00.Season != '2021-22']\n",
    "leage_00.Season.value_counts()"
   ]
  },
  {
   "cell_type": "markdown",
   "id": "a9f3c51d-d1a2-4522-ad8f-edb44add0fec",
   "metadata": {},
   "source": [
    "2000년부터 2021년까지 프리미어리그에서 뛰었던 팀을 알아봅시다."
   ]
  },
  {
   "cell_type": "code",
   "execution_count": 168,
   "id": "d63aa9f3-b1b4-41b6-a918-9903058923bc",
   "metadata": {},
   "outputs": [
    {
     "data": {
      "text/plain": [
       "HomeTeam\n",
       "Chelsea             399\n",
       "Liverpool           399\n",
       "Tottenham           399\n",
       "Man United          399\n",
       "Arsenal             399\n",
       "Everton             399\n",
       "Man City            380\n",
       "Newcastle           361\n",
       "Aston Villa         342\n",
       "West Ham            342\n",
       "Fulham              285\n",
       "Sunderland          266\n",
       "Southampton         266\n",
       "West Brom           247\n",
       "Bolton              209\n",
       "Blackburn           209\n",
       "Middlesbrough       190\n",
       "Leicester           190\n",
       "Stoke               190\n",
       "Crystal Palace      171\n",
       "Wigan               152\n",
       "Portsmouth          133\n",
       "Burnley             133\n",
       "Swansea             133\n",
       "Wolves              133\n",
       "Charlton            133\n",
       "Birmingham          133\n",
       "Watford             114\n",
       "Norwich             114\n",
       "Bournemouth          95\n",
       "Hull                 95\n",
       "Leeds                95\n",
       "Brighton             76\n",
       "Sheffield United     57\n",
       "Reading              57\n",
       "Derby                57\n",
       "QPR                  57\n",
       "Cardiff              38\n",
       "Ipswich              38\n",
       "Huddersfield         38\n",
       "Bradford             19\n",
       "Blackpool            19\n",
       "Coventry             19\n",
       "Name: count, dtype: int64"
      ]
     },
     "execution_count": 168,
     "metadata": {},
     "output_type": "execute_result"
    }
   ],
   "source": [
    "leage_00.HomeTeam.value_counts()"
   ]
  },
  {
   "cell_type": "markdown",
   "id": "f1e6b24c-44a2-4ecc-92e4-ee9bf11fa3ac",
   "metadata": {},
   "source": [
    "___________\n",
    "# 데이터 분리\n",
    "\n",
    "먼저 해당 기간 동안 토트넘의 데이터를 분리해 보겠습니다.\n",
    "\n",
    "경기 데이터와 축구 특성 상, 홈 경기와 원정 경기를 분리해서 추출하도록 합니다."
   ]
  },
  {
   "cell_type": "code",
   "execution_count": 169,
   "id": "5ad8f639-0d8a-4eae-80fc-2ecffabfaf59",
   "metadata": {},
   "outputs": [],
   "source": [
    "leage_tot_home = leage_00[leage_00.HomeTeam == 'Tottenham']\n",
    "leage_tot_away = leage_00[leage_00.AwayTeam == 'Tottenham']"
   ]
  },
  {
   "cell_type": "code",
   "execution_count": 191,
   "id": "c5af8d61-65cb-4d0e-8134-58ca61b8ccd8",
   "metadata": {},
   "outputs": [
    {
     "data": {
      "text/html": [
       "<div>\n",
       "<style scoped>\n",
       "    .dataframe tbody tr th:only-of-type {\n",
       "        vertical-align: middle;\n",
       "    }\n",
       "\n",
       "    .dataframe tbody tr th {\n",
       "        vertical-align: top;\n",
       "    }\n",
       "\n",
       "    .dataframe thead th {\n",
       "        text-align: right;\n",
       "    }\n",
       "</style>\n",
       "<table border=\"1\" class=\"dataframe\">\n",
       "  <thead>\n",
       "    <tr style=\"text-align: right;\">\n",
       "      <th></th>\n",
       "      <th>Season</th>\n",
       "      <th>DateTime</th>\n",
       "      <th>HomeTeam</th>\n",
       "      <th>AwayTeam</th>\n",
       "      <th>FTHG</th>\n",
       "      <th>FTAG</th>\n",
       "      <th>FTR</th>\n",
       "      <th>HTHG</th>\n",
       "      <th>HTAG</th>\n",
       "      <th>HTR</th>\n",
       "      <th>...</th>\n",
       "      <th>HST</th>\n",
       "      <th>AST</th>\n",
       "      <th>HC</th>\n",
       "      <th>AC</th>\n",
       "      <th>HF</th>\n",
       "      <th>AF</th>\n",
       "      <th>HY</th>\n",
       "      <th>AY</th>\n",
       "      <th>HR</th>\n",
       "      <th>AR</th>\n",
       "    </tr>\n",
       "  </thead>\n",
       "  <tbody>\n",
       "    <tr>\n",
       "      <th>4981</th>\n",
       "      <td>2005-06</td>\n",
       "      <td>2006-02-19 00:00:00+00:00</td>\n",
       "      <td>Tottenham</td>\n",
       "      <td>Wigan</td>\n",
       "      <td>2</td>\n",
       "      <td>2</td>\n",
       "      <td>D</td>\n",
       "      <td>1.0</td>\n",
       "      <td>1.0</td>\n",
       "      <td>D</td>\n",
       "      <td>...</td>\n",
       "      <td>4.0</td>\n",
       "      <td>5.0</td>\n",
       "      <td>4.0</td>\n",
       "      <td>3.0</td>\n",
       "      <td>12.0</td>\n",
       "      <td>14.0</td>\n",
       "      <td>1.0</td>\n",
       "      <td>1.0</td>\n",
       "      <td>0.0</td>\n",
       "      <td>0.0</td>\n",
       "    </tr>\n",
       "    <tr>\n",
       "      <th>4177</th>\n",
       "      <td>2003-04</td>\n",
       "      <td>2004-01-17 00:00:00+00:00</td>\n",
       "      <td>Tottenham</td>\n",
       "      <td>Liverpool</td>\n",
       "      <td>2</td>\n",
       "      <td>1</td>\n",
       "      <td>H</td>\n",
       "      <td>1.0</td>\n",
       "      <td>0.0</td>\n",
       "      <td>H</td>\n",
       "      <td>...</td>\n",
       "      <td>3.0</td>\n",
       "      <td>4.0</td>\n",
       "      <td>5.0</td>\n",
       "      <td>6.0</td>\n",
       "      <td>18.0</td>\n",
       "      <td>9.0</td>\n",
       "      <td>1.0</td>\n",
       "      <td>1.0</td>\n",
       "      <td>0.0</td>\n",
       "      <td>0.0</td>\n",
       "    </tr>\n",
       "    <tr>\n",
       "      <th>10010</th>\n",
       "      <td>2018-19</td>\n",
       "      <td>2019-04-23 00:00:00+00:00</td>\n",
       "      <td>Tottenham</td>\n",
       "      <td>Brighton</td>\n",
       "      <td>1</td>\n",
       "      <td>0</td>\n",
       "      <td>H</td>\n",
       "      <td>0.0</td>\n",
       "      <td>0.0</td>\n",
       "      <td>D</td>\n",
       "      <td>...</td>\n",
       "      <td>5.0</td>\n",
       "      <td>1.0</td>\n",
       "      <td>6.0</td>\n",
       "      <td>3.0</td>\n",
       "      <td>7.0</td>\n",
       "      <td>13.0</td>\n",
       "      <td>1.0</td>\n",
       "      <td>2.0</td>\n",
       "      <td>0.0</td>\n",
       "      <td>0.0</td>\n",
       "    </tr>\n",
       "  </tbody>\n",
       "</table>\n",
       "<p>3 rows × 23 columns</p>\n",
       "</div>"
      ],
      "text/plain": [
       "        Season                  DateTime   HomeTeam   AwayTeam  FTHG  FTAG   \n",
       "4981   2005-06 2006-02-19 00:00:00+00:00  Tottenham      Wigan     2     2  \\\n",
       "4177   2003-04 2004-01-17 00:00:00+00:00  Tottenham  Liverpool     2     1   \n",
       "10010  2018-19 2019-04-23 00:00:00+00:00  Tottenham   Brighton     1     0   \n",
       "\n",
       "      FTR  HTHG  HTAG HTR  ...  HST  AST   HC   AC    HF    AF   HY   AY   HR   \n",
       "4981    D   1.0   1.0   D  ...  4.0  5.0  4.0  3.0  12.0  14.0  1.0  1.0  0.0  \\\n",
       "4177    H   1.0   0.0   H  ...  3.0  4.0  5.0  6.0  18.0   9.0  1.0  1.0  0.0   \n",
       "10010   H   0.0   0.0   D  ...  5.0  1.0  6.0  3.0   7.0  13.0  1.0  2.0  0.0   \n",
       "\n",
       "        AR  \n",
       "4981   0.0  \n",
       "4177   0.0  \n",
       "10010  0.0  \n",
       "\n",
       "[3 rows x 23 columns]"
      ]
     },
     "execution_count": 191,
     "metadata": {},
     "output_type": "execute_result"
    }
   ],
   "source": [
    "#데이터가 잘 분리되었는지 확인\n",
    "leage_tot_home.sample(3)"
   ]
  },
  {
   "cell_type": "markdown",
   "id": "400f1ef2-f027-4357-97cf-71760b84f5c3",
   "metadata": {},
   "source": [
    "각 시즌의 우승팀 데이터를 추출해 봅시다.\n",
    "\n",
    "2000-01 시즌부터 프리미어리그 우승팀은\n",
    "\n",
    "맨체스터 유나이티드 -> 아스날 -> 맨체스터 유나이티드 -> 아스날 -> 첼시 -> 첼시 -> 맨체스터 유나이티드 -> 맨체스터 유나이티드 -> 맨체스터 유나이티드 -> 첼시 -> 맨체스터 유나이티드 -> \n",
    "\n",
    "맨체스터 시티 -> 맨체스터 유나이티드 -> 맨체스터 시티 -> 첼시 -> 레스터 -> 첼시 -> 맨체스터 시티 -> 맨체스터 시티 -> 리버풀 -> 맨체스터 시티"
   ]
  },
  {
   "cell_type": "code",
   "execution_count": 192,
   "id": "016dd13f-c01a-4418-8342-be5cb4fb4893",
   "metadata": {},
   "outputs": [],
   "source": [
    "leage_winner_home = leage_00[(leage_00.Season == '2000-01') & (leage_00.HomeTeam == 'Man United') |\n",
    "                             (leage_00.Season == '2001-02') & (leage_00.HomeTeam == 'Arsenal') |\n",
    "                             (leage_00.Season == '2002-03') & (leage_00.HomeTeam == 'Man United') |\n",
    "                             (leage_00.Season == '2003-04') & (leage_00.HomeTeam == 'Arsena') |\n",
    "                             (leage_00.Season == '2004-05') & (leage_00.HomeTeam == 'Chelsea') |\n",
    "                             (leage_00.Season == '2005-06') & (leage_00.HomeTeam == 'Chelsea') |\n",
    "                             (leage_00.Season == '2006-07') & (leage_00.HomeTeam == 'Man United') |\n",
    "                             (leage_00.Season == '2007-08') & (leage_00.HomeTeam == 'Man United') |\n",
    "                             (leage_00.Season == '2008-09') & (leage_00.HomeTeam == 'Man United') |\n",
    "                             (leage_00.Season == '2009-10') & (leage_00.HomeTeam == 'Chelsea') |\n",
    "                             (leage_00.Season == '2010-11') & (leage_00.HomeTeam == 'Man United') |\n",
    "                             (leage_00.Season == '2011-12') & (leage_00.HomeTeam == 'Man City') |\n",
    "                             (leage_00.Season == '2012-13') & (leage_00.HomeTeam == 'Man United') |\n",
    "                             (leage_00.Season == '2013-14') & (leage_00.HomeTeam == 'Man City') |\n",
    "                             (leage_00.Season == '2014-15') & (leage_00.HomeTeam == 'Chelsea') |\n",
    "                             (leage_00.Season == '2015-16') & (leage_00.HomeTeam == 'Leicester') |\n",
    "                             (leage_00.Season == '2016-17') & (leage_00.HomeTeam == 'Chelsea') |\n",
    "                             (leage_00.Season == '2017-18') & (leage_00.HomeTeam == 'Man City') |\n",
    "                             (leage_00.Season == '2018-19') & (leage_00.HomeTeam == 'Man City') |\n",
    "                             (leage_00.Season == '2019-20') & (leage_00.HomeTeam == 'Liverpool') |\n",
    "                             (leage_00.Season == '2020-21') & (leage_00.HomeTeam == 'Man City')\n",
    "                            ]\n",
    "leage_winner_away = leage_00[(leage_00.Season == '2000-01') & (leage_00.AwayTeam == 'Man United') |\n",
    "                             (leage_00.Season == '2001-02') & (leage_00.AwayTeam == 'Arsenal') |\n",
    "                             (leage_00.Season == '2002-03') & (leage_00.AwayTeam == 'Man United') |\n",
    "                             (leage_00.Season == '2003-04') & (leage_00.AwayTeam == 'Arsena') |\n",
    "                             (leage_00.Season == '2004-05') & (leage_00.AwayTeam == 'Chelsea') |\n",
    "                             (leage_00.Season == '2005-06') & (leage_00.AwayTeam == 'Chelsea') |\n",
    "                             (leage_00.Season == '2006-07') & (leage_00.AwayTeam == 'Man United') |\n",
    "                             (leage_00.Season == '2007-08') & (leage_00.AwayTeam == 'Man United') |\n",
    "                             (leage_00.Season == '2008-09') & (leage_00.AwayTeam == 'Man United') |\n",
    "                             (leage_00.Season == '2009-10') & (leage_00.AwayTeam == 'Chelsea') |\n",
    "                             (leage_00.Season == '2010-11') & (leage_00.AwayTeam == 'Man United') |\n",
    "                             (leage_00.Season == '2011-12') & (leage_00.AwayTeam == 'Man City') |\n",
    "                             (leage_00.Season == '2012-13') & (leage_00.AwayTeam == 'Man United') |\n",
    "                             (leage_00.Season == '2013-14') & (leage_00.AwayTeam == 'Man City') |\n",
    "                             (leage_00.Season == '2014-15') & (leage_00.AwayTeam == 'Chelsea') |\n",
    "                             (leage_00.Season == '2015-16') & (leage_00.AwayTeam == 'Leicester') |\n",
    "                             (leage_00.Season == '2016-17') & (leage_00.AwayTeam == 'Chelsea') |\n",
    "                             (leage_00.Season == '2017-18') & (leage_00.AwayTeam == 'Man City') |\n",
    "                             (leage_00.Season == '2018-19') & (leage_00.AwayTeam == 'Man City') |\n",
    "                             (leage_00.Season == '2019-20') & (leage_00.AwayTeam == 'Liverpool') |\n",
    "                             (leage_00.Season == '2020-21') & (leage_00.AwayTeam == 'Man City')\n",
    "                            ]"
   ]
  },
  {
   "cell_type": "markdown",
   "id": "1d15cfcd-1603-49c7-a9ca-373fc8033de1",
   "metadata": {
    "tags": []
   },
   "source": [
    "_______\n",
    "\n",
    "# 기본적인 공격력 분석\n",
    "\n",
    "축구는 골을 넣는 스포츠입니다.\n",
    "\n",
    "데이터분석을 하지 않아도 골을 많이 넣으면 승리할 확률이 높고, 승리한 경기가 많으면 순위가 높다는 것은 알 수 있지만 구체적으로 얼마나 차이가 나는지는 궁금하기 때문에 한 번 알아보도록 하겠습니다."
   ]
  },
  {
   "cell_type": "code",
   "execution_count": 193,
   "id": "d758d274-a6f8-4316-b748-230a74a140ce",
   "metadata": {
    "tags": []
   },
   "outputs": [
    {
     "data": {
      "text/plain": [
       "([<matplotlib.axis.XTick at 0x1f9b6be9c40>,\n",
       "  <matplotlib.axis.XTick at 0x1f9b6be9c10>,\n",
       "  <matplotlib.axis.XTick at 0x1f9b6be9820>,\n",
       "  <matplotlib.axis.XTick at 0x1f9b6d31c10>,\n",
       "  <matplotlib.axis.XTick at 0x1f9b6d3a700>,\n",
       "  <matplotlib.axis.XTick at 0x1f9b6d431f0>],\n",
       " [Text(0, 0, 'Tot_Home'),\n",
       "  Text(1, 0, 'Tot_Away'),\n",
       "  Text(2, 0, 'Winner_Home'),\n",
       "  Text(3, 0, 'Winner_Away'),\n",
       "  Text(4, 0, 'Leage_Teams_Home'),\n",
       "  Text(5, 0, 'Leage_Teams_Away')])"
      ]
     },
     "execution_count": 193,
     "metadata": {},
     "output_type": "execute_result"
    },
    {
     "data": {
      "image/png": "[encoded data removed]",
      "text/plain": [
       "<Figure size 1200x500 with 1 Axes>"
      ]
     },
     "metadata": {},
     "output_type": "display_data"
    }
   ],
   "source": [
    "teams_goal = [\n",
    "    leage_tot_home.FTHG.mean(),\n",
    "    leage_tot_away.FTAG.mean(),\n",
    "    leage_winner_home.FTHG.mean(),\n",
    "    leage_winner_away.FTAG.mean(),\n",
    "    leage_00.FTHG.mean(),\n",
    "    leage_00.FTAG.mean()\n",
    "]\n",
    "\n",
    "fig, ax = plt.subplots(figsize = (12,5))\n",
    "ax.bar(range(6), teams_goal, \n",
    "        color = ['purple', 'purple', 'skyblue', 'skyblue', 'lightgreen', 'lightgreen'],\n",
    "        width = 0.5)\n",
    "ax.set(title = 'Score')\n",
    "plt.xticks(range(6), ['Tot_Home', 'Tot_Away', 'Winner_Home', 'Winner_Away', 'Leage_Teams_Home', 'Leage_Teams_Away'])"
   ]
  },
  {
   "cell_type": "markdown",
   "id": "66d3ac1c-433a-44f4-8376-92dbaeb9a99e",
   "metadata": {},
   "source": [
    "토트넘의 홈, 원정 득점 추이를 보면 우승팀보다는 프리미어리그 평균에 더 가까운 데이터를 보여주고 있습니다.\n",
    "\n",
    "토트넘의 공격력이 우승권에 도전할 만큼 압도적이지 않다는 것을 알 수 있겠습니다.\n",
    "\n",
    "그렇다면 그 원인을 분석해 보도록 하겠습니다.\n",
    "\n",
    "먼저, 슈팅 대비 유효슈팅 - 득점 전환 비율을 알아보도록 하겠습니다."
   ]
  },
  {
   "cell_type": "code",
   "execution_count": 194,
   "id": "b7875d89-80c3-421c-b3be-88494d099593",
   "metadata": {},
   "outputs": [],
   "source": [
    "teams_SPG = [\n",
    "    (leage_tot_home.FTHG / leage_tot_home.HS).mean() * 100,\n",
    "    (leage_tot_away.FTAG / leage_tot_away.AS).mean() * 100,\n",
    "    (leage_winner_home.FTHG / leage_winner_home.HS).mean() * 100,\n",
    "    (leage_winner_away.FTAG / leage_winner_away.AS).mean() * 100,\n",
    "    (leage_00.FTHG / leage_00.HS).replace(np.inf, 0).mean() * 100,\n",
    "    (leage_00.FTAG / leage_00.AS).replace(np.inf, 0).mean() * 100\n",
    "]"
   ]
  },
  {
   "cell_type": "code",
   "execution_count": 195,
   "id": "1753ef67-3d79-48b5-9bf5-8864f969d637",
   "metadata": {},
   "outputs": [
    {
     "data": {
      "text/plain": [
       "([<matplotlib.axis.XTick at 0x1f9b6afe670>,\n",
       "  <matplotlib.axis.XTick at 0x1f9b6d6f8e0>,\n",
       "  <matplotlib.axis.XTick at 0x1f9b6d6f4f0>,\n",
       "  <matplotlib.axis.XTick at 0x1f9b7210b80>,\n",
       "  <matplotlib.axis.XTick at 0x1f9b72163a0>,\n",
       "  <matplotlib.axis.XTick at 0x1f9b7216e20>],\n",
       " [Text(0, 0, 'Tot_Home'),\n",
       "  Text(1, 0, 'Tot_Away'),\n",
       "  Text(2, 0, 'Winner_Home'),\n",
       "  Text(3, 0, 'Winner_Away'),\n",
       "  Text(4, 0, 'Leage_Teams_Home'),\n",
       "  Text(5, 0, 'Leage_Teams_Away')])"
      ]
     },
     "execution_count": 195,
     "metadata": {},
     "output_type": "execute_result"
    },
    {
     "data": {
      "image/png": "[encoded data removed]",
      "text/plain": [
       "<Figure size 1200x500 with 1 Axes>"
      ]
     },
     "metadata": {},
     "output_type": "display_data"
    }
   ],
   "source": [
    "fig, ax = plt.subplots(figsize = (12,5))\n",
    "ax.bar(range(6), teams_SPG, \n",
    "        color = ['purple', 'purple', 'skyblue', 'skyblue', 'lightgreen', 'lightgreen'],\n",
    "        width = 0.4)\n",
    "ax.set(title = 'Goal Per Shot',\n",
    "       ylabel = 'changed for %')\n",
    "ax.axhline(y = teams_SPG[0], color='red', linestyle='--')\n",
    "plt.xticks(range(6), ['Tot_Home', 'Tot_Away', 'Winner_Home', 'Winner_Away', 'Leage_Teams_Home', 'Leage_Teams_Away'])"
   ]
  },
  {
   "cell_type": "code",
   "execution_count": 196,
   "id": "eb0cf816-1591-42c3-993d-649bd8f39dd6",
   "metadata": {},
   "outputs": [
    {
     "data": {
      "text/plain": [
       "([<matplotlib.axis.XTick at 0x1f9b725f490>,\n",
       "  <matplotlib.axis.XTick at 0x1f9b725f460>,\n",
       "  <matplotlib.axis.XTick at 0x1f9b7255be0>,\n",
       "  <matplotlib.axis.XTick at 0x1f9b729d7c0>,\n",
       "  <matplotlib.axis.XTick at 0x1f9b72a12b0>,\n",
       "  <matplotlib.axis.XTick at 0x1f9b72a1d60>],\n",
       " [Text(0, 0, 'Tot_Home'),\n",
       "  Text(1, 0, 'Tot_Away'),\n",
       "  Text(2, 0, 'Winner_Home'),\n",
       "  Text(3, 0, 'Winner_Away'),\n",
       "  Text(4, 0, 'Leage_Teams_Home'),\n",
       "  Text(5, 0, 'Leage_Teams_Away')])"
      ]
     },
     "execution_count": 196,
     "metadata": {},
     "output_type": "execute_result"
    },
    {
     "data": {
      "image/png": "[encoded data removed]",
      "text/plain": [
       "<Figure size 1200x500 with 1 Axes>"
      ]
     },
     "metadata": {},
     "output_type": "display_data"
    }
   ],
   "source": [
    "teams_SPSoT = [\n",
    "    (leage_tot_home.FTHG / leage_tot_home.HST).mean() * 100,\n",
    "    (leage_tot_away.FTAG / leage_tot_away.AST).mean() * 100,\n",
    "    (leage_winner_home.FTHG / leage_winner_home.HST).mean() * 100,\n",
    "    (leage_winner_away.FTAG / leage_winner_away.AST).mean() * 100,\n",
    "    (leage_00.FTHG / leage_00.HST).replace(np.inf, 0).mean() * 100,\n",
    "    (leage_00.FTAG / leage_00.AST).replace(np.inf, 0).mean() * 100\n",
    "]\n",
    "fig, ax = plt.subplots(figsize = (12,5))\n",
    "ax.bar(range(6), teams_SPSoT, \n",
    "        color = ['purple', 'purple', 'skyblue', 'skyblue', 'lightgreen', 'lightgreen'],\n",
    "        width = 0.4)\n",
    "ax.set(title = 'Goal Per Shot on Target',\n",
    "       ylabel = 'changed for %')\n",
    "ax.axhline(y = teams_SPSoT[0], color='red', linestyle='--')\n",
    "plt.xticks(range(6), ['Tot_Home', 'Tot_Away', 'Winner_Home', 'Winner_Away', 'Leage_Teams_Home', 'Leage_Teams_Away'])"
   ]
  },
  {
   "cell_type": "markdown",
   "id": "9ce51267-9ca4-46db-8bcf-026e34a3e596",
   "metadata": {},
   "source": [
    "여러 팀의 '골 / 슈팅' 비율과 '골 / 유효슈팅' 비율을 살펴봤습니다.\n",
    "\n",
    "토트넘은 우승팀의 데이터에 비해 '슛 대비 득점 비율'은 약 2% 모자랐고, '유효슈팅 대비 득점 비율'은 약 4% 모자랐습니다.\n",
    "\n",
    "확실히 차이가 나기는 하지만 경기당 평균 득점이 0.7골정도 차이나는 것을 설명하기에는 부족함이 있습니다.\n",
    "\n",
    "유효슈팅과 슈팅의 갯수 자체에 차이가 나는 것인지 알아보겠습니다."
   ]
  },
  {
   "cell_type": "code",
   "execution_count": 197,
   "id": "672b73e1-3e87-4829-ad47-d70b47924009",
   "metadata": {},
   "outputs": [
    {
     "data": {
      "text/plain": [
       "[<matplotlib.axis.XTick at 0x1f9b76a67c0>,\n",
       " <matplotlib.axis.XTick at 0x1f9b76a6790>,\n",
       " <matplotlib.axis.XTick at 0x1f9b76a63a0>,\n",
       " <matplotlib.axis.XTick at 0x1f9b76f9f40>,\n",
       " <matplotlib.axis.XTick at 0x1f9b7709f40>,\n",
       " <matplotlib.axis.XTick at 0x1f9b770fa30>]"
      ]
     },
     "execution_count": 197,
     "metadata": {},
     "output_type": "execute_result"
    },
    {
     "data": {
      "image/png": "[encoded data removed]",
      "text/plain": [
       "<Figure size 1300x400 with 2 Axes>"
      ]
     },
     "metadata": {},
     "output_type": "display_data"
    }
   ],
   "source": [
    "teams_SOT = [\n",
    "    leage_tot_home.HST.mean(),\n",
    "    leage_tot_away.AST.mean(),\n",
    "    leage_winner_home.HST.mean(),\n",
    "    leage_winner_away.AST.mean(),\n",
    "    leage_00.HST.mean(),\n",
    "    leage_00.AST.mean()\n",
    "]\n",
    "teams_ST = [\n",
    "    leage_tot_home.HS.mean(),\n",
    "    leage_tot_away.AS.mean(),\n",
    "    leage_winner_home.HS.mean(),\n",
    "    leage_winner_away.AS.mean(),\n",
    "    leage_00.HS.mean(),\n",
    "    leage_00.AS.mean()\n",
    "]\n",
    "\n",
    "#ax1 그래프\n",
    "xlabels = ['Tot_H', 'Tot_A', 'Winner_H', 'Winner_A', 'Leage_H', 'Leage_A']\n",
    "fig, (ax1, ax2) = plt.subplots(1, 2, figsize = (13, 4))\n",
    "ax1.bar(range(6), teams_SOT, \n",
    "        color = ['purple', 'purple', 'skyblue', 'skyblue', 'lightgreen', 'lightgreen'],\n",
    "        width = 0.4)\n",
    "ax1.set(title = 'Shot On Target',)\n",
    "ax1.axhline(y = teams_SOT[0], color='red', linestyle='--')\n",
    "ax1.axhline(y = teams_SOT[1], color='blue', linestyle='--')\n",
    "ax1.set_xticks(range(6), xlabels)\n",
    "\n",
    "#ax2 그래프\n",
    "xlabels = ['Tot_H', 'Tot_A', 'Winner_H', 'Winner_A', 'Leage_H', 'Leage_A']\n",
    "ax2.bar(range(6), teams_ST, \n",
    "        color = ['purple', 'purple', 'skyblue', 'skyblue', 'lightgreen', 'lightgreen'],\n",
    "        width = 0.4)\n",
    "ax2.set(title = 'Shot')\n",
    "ax2.axhline(y = teams_ST[0], color='red', linestyle='--')\n",
    "ax2.axhline(y = teams_ST[1], color='blue', linestyle='--')\n",
    "ax2.set_xticks(range(6), xlabels)"
   ]
  },
  {
   "cell_type": "markdown",
   "id": "6462234b-b23b-4dfa-9a2b-55ae451f32f8",
   "metadata": {},
   "source": [
    "유효슈팅 수는 약 1회가 모자라는 것으로 나타났고, 슈팅의 개수는 약 2회가 모자라는 것으로 나타났습니다.\n",
    "\n",
    "현재까지 공격력을 분석한 바를 정리해 보겠습니다.\n",
    "\n",
    "|/| 토트넘 홈 | 토트넘 원정 | 우승팀 홈 | 우승팀 원정 | 모든 팀 홈 | 모든 팀 원정 |\n",
    "|:---|:-------:|:-------:|:-------:|:-------:|:-------:|:-------:|\n",
    "|득점|1.8|1.3|2.5|1.8|1.5|1.1|\n",
    "|슈팅|15.4|11.5|17.2|13.8|13.4|10.6|\n",
    "|유효슈팅|7.4|5.4|8.4|6.5|6.1|4.7|\n",
    "|슛 대비 골(%)|12.8|11.9|15.7|14.1|11.9|11.4|\n",
    "|유효슈팅 대비 골(%)|27.7|26.2|33.2|30.9|27.0|25.7|"
   ]
  },
  {
   "cell_type": "markdown",
   "id": "af43e31b-eac4-4383-bb30-67d85416e5a4",
   "metadata": {},
   "source": [
    "현재까지 알아본 공격력에서의 부족한 부분 중 가장 드러나는 부분은 유효슈팅 대비 골 부분입니다.\n",
    "\n",
    "슈팅의 수, 유효슈팅의 수는 우승팀에 비해서는 떨어지나 프리미어리그 평균보다는 높은 수준을 보여 주나\n",
    "\n",
    "유효슈팅을 골로 결정짓는 부분에 있어서 프리미어리그 평균과 큰 차이를 보이지 못하고 있었습니다."
   ]
  },
  {
   "cell_type": "markdown",
   "id": "b3ed0866-9059-44dd-9392-2ea7431a82d0",
   "metadata": {},
   "source": [
    "토트넘에는 속도가 아주 빨라 역습에 최적화되있거나 개인기가 뛰어난 선수들이 많이 있습니다.\n",
    "\n",
    "이런 선수들은 상대 팀의 반칙을 자주 유도합니다. 특히 핵심적인 득점 기회를 상대가 반칙으로 저지했을 때에는 카드를 받게 됩니다.\n",
    "\n",
    "토트넘을 상대하는 팀들은 얼마나 자주 반칙을 저지르는지 알아보도록 하겠습니다."
   ]
  },
  {
   "cell_type": "code",
   "execution_count": 198,
   "id": "20fcbac4-5725-4aa0-b6ea-587ef4fb5b1e",
   "metadata": {},
   "outputs": [
    {
     "data": {
      "text/plain": [
       "([<matplotlib.axis.XTick at 0x1f9b72cc880>,\n",
       "  <matplotlib.axis.XTick at 0x1f9b72cca90>,\n",
       "  <matplotlib.axis.XTick at 0x1f9a5b9e190>,\n",
       "  <matplotlib.axis.XTick at 0x1f9b6a8fe80>,\n",
       "  <matplotlib.axis.XTick at 0x1f9b6a669a0>,\n",
       "  <matplotlib.axis.XTick at 0x1f9b466cfa0>],\n",
       " [Text(0, 0, 'Tot_H'),\n",
       "  Text(1, 0, 'Tot_A'),\n",
       "  Text(2, 0, 'Winner_H'),\n",
       "  Text(3, 0, 'Winner_A'),\n",
       "  Text(4, 0, 'Leage_H'),\n",
       "  Text(5, 0, 'Leage_A')])"
      ]
     },
     "execution_count": 198,
     "metadata": {},
     "output_type": "execute_result"
    },
    {
     "data": {
      "image/png": "[encoded data removed]",
      "text/plain": [
       "<Figure size 1200x500 with 1 Axes>"
      ]
     },
     "metadata": {},
     "output_type": "display_data"
    }
   ],
   "source": [
    "teams_Card = [\n",
    "    (leage_tot_home.AY + leage_tot_home.AR).mean(),\n",
    "    (leage_tot_away.HY + leage_tot_away.HR).mean(),\n",
    "    (leage_winner_home.AY + leage_winner_home.AR).mean(),\n",
    "    (leage_winner_away.HY + leage_winner_away.HR).mean(),\n",
    "    (leage_00.AY + leage_00.AR).mean(),\n",
    "    (leage_00.HY + leage_00.HR).mean()\n",
    "]\n",
    "\n",
    "fig, ax = plt.subplots(figsize = (12,5))\n",
    "ax.bar(range(6), teams_Card, \n",
    "        color = ['purple', 'purple', 'skyblue', 'skyblue', 'lightgreen', 'lightgreen'],\n",
    "        width = 0.4)\n",
    "ax.set(title = 'Yellow and Red Cards',\n",
    "       ylabel = 'Count Of Cards')\n",
    "ax.axhline(y = teams_Card[0], color='red', linestyle='--')\n",
    "plt.xticks(range(6), xlabels)"
   ]
  },
  {
   "cell_type": "markdown",
   "id": "37128786-0aa1-41a0-93c9-5bcb7000921b",
   "metadata": {},
   "source": [
    "토트넘의 피반칙(카드) 횟수는 프리미어리그 평균과 우승팀 평균보다 비슷하거나 상회하는 결과를 보여주었습니다.\n",
    "\n",
    "(가벼운 분석) 이는 토트넘이 상대에게 카드를 강요하기 쉬운 플레이, 즉 역습 위주의 플레이 혹은 개인기를 위시한 플레이를 강점으로 내세운 경기를 자주 한다는 것으로 이해할 수 있겠습니다.\n",
    "\n",
    "다른 해석으로는 핵심적인 찬스 등에서 상대방의 반칙에 기회를 날리는 경우가 많다는 것을 나타내기도 하겠습니다. 반칙을 피하고 득점으로 연결하는 것 또한 강팀의 조건이니만큼 긍정적인 데이터라고만 해석하기는 어려운 부분이겠습니다."
   ]
  },
  {
   "cell_type": "markdown",
   "id": "7a4a4b58-3a2e-494e-829a-65f86f54d3d2",
   "metadata": {},
   "source": [
    "_____\n",
    "\n",
    "이번에는 토트넘의 경기력이 저조했던 경기의 수를 알아보겠습니다.\n",
    "\n",
    "강팀을 만나거나 상대적 약팀의 수비 집중 전술을 뚫어내지 못하고 슈팅 자체를 만들어내지 못한 경기의 비율을 분석해 보도록 하겠습니다."
   ]
  },
  {
   "cell_type": "code",
   "execution_count": 199,
   "id": "eebdaa57-2e48-4aa7-8b6a-a972a7c1ef60",
   "metadata": {},
   "outputs": [
    {
     "data": {
      "text/plain": [
       "([<matplotlib.axis.XTick at 0x1f9a93ba340>,\n",
       "  <matplotlib.axis.XTick at 0x1f9a93ba730>,\n",
       "  <matplotlib.axis.XTick at 0x1f9a93958b0>,\n",
       "  <matplotlib.axis.XTick at 0x1f9b1086d90>,\n",
       "  <matplotlib.axis.XTick at 0x1f9ad062460>,\n",
       "  <matplotlib.axis.XTick at 0x1f9b3dc3d30>],\n",
       " [Text(0, 0, 'Tot_H'),\n",
       "  Text(1, 0, 'Tot_A'),\n",
       "  Text(2, 0, 'Winner_H'),\n",
       "  Text(3, 0, 'Winner_A'),\n",
       "  Text(4, 0, 'Leage_H'),\n",
       "  Text(5, 0, 'Leage_A')])"
      ]
     },
     "execution_count": 199,
     "metadata": {},
     "output_type": "execute_result"
    },
    {
     "data": {
      "image/png": "[encoded data removed]",
      "text/plain": [
       "<Figure size 1200x500 with 1 Axes>"
      ]
     },
     "metadata": {},
     "output_type": "display_data"
    }
   ],
   "source": [
    "teams_Losegame = [\n",
    "    len(leage_tot_home[leage_tot_home.HS < 8]) / len(leage_tot_home) * 100,\n",
    "    len(leage_tot_away[leage_tot_away.AS < 8]) / len(leage_tot_away) * 100,\n",
    "    len(leage_winner_home[leage_winner_home.HS < 8]) / len(leage_winner_home) * 100,\n",
    "    len(leage_winner_away[leage_winner_away.AS < 8]) / len(leage_winner_away) * 100,\n",
    "    len(leage_00[leage_00.HS < 8]) / len(leage_00) * 100,\n",
    "    len(leage_00[leage_00.AS < 8]) / len(leage_00) * 100\n",
    "]\n",
    "\n",
    "fig, ax = plt.subplots(figsize = (12,5))\n",
    "ax.bar(range(6), teams_Losegame, \n",
    "        color = ['purple', 'purple', 'skyblue', 'skyblue', 'lightgreen', 'lightgreen'],\n",
    "        width = 0.4)\n",
    "ax.set(title = 'Games shots < 8 times',\n",
    "       ylabel = 'changed for %')\n",
    "ax.axhline(y = teams_Losegame[0], color='red', linestyle='--')\n",
    "ax.axhline(y = teams_Losegame[1], color='blue', linestyle='--')\n",
    "plt.xticks(range(6), xlabels)"
   ]
  },
  {
   "cell_type": "markdown",
   "id": "2e7859cf-7c32-4d14-b895-d0fd32cba648",
   "metadata": {},
   "source": [
    "이번에는 의미 있는 차이를 가진 데이터를 분석해 내었습니다.\n",
    "\n",
    "전체 경기 수 대비 '슈팅 수가 8번보다 적었던 경기'의 비율이 우승팀의 그것에 비하여 2배 가까이 높은 것을 알 수 있습니다.\n",
    "\n",
    "약 10%의 경기 수가 차이나므로 단순 계산을 해 보면 시즌당 38 * 1/10 = 약 4경기, 즉 모두 비겼을 경우 8점, 모두 졌을 경우 12점의 승점을 상대적으로 얻지 못한 것을 알 수 있습니다. 이는 상당히 의미 있는 차이로 순위를 어느 정도 결정지을 수 있는 차이를 도출했습니다.\n",
    "\n",
    "즉 토트넘의 가장 큰 약점 중 하나를 찾아내었습니다. 강팀을 상대하거나, 수비적인 전술을 내세우는 팀 상대로 상당히 아쉬운 경기력을 보인다는 것을 알아내었습니다.\n",
    "\n",
    "___\n",
    "## 이번에는 토트넘의 수비력을 분석해 보겠습니다.\n",
    "\n",
    "공격력 분석 때와 마찬가지로 실점, 상대방의 슈팅, 상대방의 유효슈팅을 알아보겠습니다."
   ]
  },
  {
   "cell_type": "code",
   "execution_count": 200,
   "id": "80ee62a9-04bc-494f-84be-922ff80ea88c",
   "metadata": {},
   "outputs": [
    {
     "data": {
      "text/plain": [
       "[<matplotlib.axis.XTick at 0x1f9b2b290d0>,\n",
       " <matplotlib.axis.XTick at 0x1f9b2b29af0>,\n",
       " <matplotlib.axis.XTick at 0x1f9b2b29850>,\n",
       " <matplotlib.axis.XTick at 0x1f9b434b6d0>,\n",
       " <matplotlib.axis.XTick at 0x1f9b45f25e0>,\n",
       " <matplotlib.axis.XTick at 0x1f9b4a86970>]"
      ]
     },
     "execution_count": 200,
     "metadata": {},
     "output_type": "execute_result"
    },
    {
     "data": {
      "image/png": "[encoded data removed]",
      "text/plain": [
       "<Figure size 1000x1200 with 3 Axes>"
      ]
     },
     "metadata": {},
     "output_type": "display_data"
    }
   ],
   "source": [
    "teams_LosePoints = [\n",
    "    leage_tot_home.FTAG.mean(),\n",
    "    leage_tot_away.FTHG.mean(),\n",
    "    leage_winner_home.FTAG.mean(),\n",
    "    leage_winner_away.FTHG.mean(),\n",
    "    leage_00.FTAG.mean(),\n",
    "    leage_00.FTHG.mean()\n",
    "]\n",
    "\n",
    "teams_ES = [\n",
    "    leage_tot_home.AS.mean(),\n",
    "    leage_tot_away.HS.mean(),\n",
    "    leage_winner_home.AS.mean(),\n",
    "    leage_winner_away.HS.mean(),\n",
    "    leage_00.AS.mean(),\n",
    "    leage_00.HS.mean()\n",
    "]\n",
    "\n",
    "teams_ESoT = [\n",
    "    leage_tot_home.AST.mean(),\n",
    "    leage_tot_away.HST.mean(),\n",
    "    leage_winner_home.AST.mean(),\n",
    "    leage_winner_away.HST.mean(),\n",
    "    leage_00.AST.mean(),\n",
    "    leage_00.HST.mean()\n",
    "]\n",
    "\n",
    "fig, (ax1, ax2, ax3) = plt.subplots(3, 1, figsize = (10, 12))\n",
    "fig.subplots_adjust(hspace = 0.3)\n",
    "#ax1\n",
    "ax1.bar(range(6), teams_LosePoints, \n",
    "        color = ['purple', 'purple', 'skyblue', 'skyblue', 'lightgreen', 'lightgreen'],\n",
    "        width = 0.4)\n",
    "ax1.set(title = 'LosePoints',\n",
    "       ylabel = 'times')\n",
    "ax1.axhline(y = teams_LosePoints[0], color='red', linestyle='--')\n",
    "ax1.axhline(y = teams_LosePoints[1], color='blue', linestyle='--')\n",
    "ax1.set_xticks(range(6), xlabels)\n",
    "#ax2\n",
    "ax2.bar(range(6), teams_ES, \n",
    "        color = ['purple', 'purple', 'skyblue', 'skyblue', 'lightgreen', 'lightgreen'],\n",
    "        width = 0.4)\n",
    "ax2.set(title = 'Enermy Shots',\n",
    "       ylabel = 'times')\n",
    "ax2.axhline(y = teams_ES[0], color='red', linestyle='--')\n",
    "ax2.axhline(y = teams_ES[1], color='blue', linestyle='--')\n",
    "ax2.set_xticks(range(6), xlabels)\n",
    "#ax3\n",
    "ax3.bar(range(6), teams_ESoT, \n",
    "        color = ['purple', 'purple', 'skyblue', 'skyblue', 'lightgreen', 'lightgreen'],\n",
    "        width = 0.4)\n",
    "ax3.set(title = 'Enermy Shots On Target',\n",
    "       ylabel = 'times')\n",
    "ax3.axhline(y = teams_ESoT[0], color='red', linestyle='--')\n",
    "ax3.axhline(y = teams_ESoT[1], color='blue', linestyle='--')\n",
    "ax3.set_xticks(range(6), xlabels)"
   ]
  },
  {
   "cell_type": "markdown",
   "id": "c257a8ab-8b47-4ada-b89b-6f2439e15a3b",
   "metadata": {},
   "source": [
    "토트넘의 수비력은 우승권에 도전하기에는 상당히 부족한 지표를 보여주었습니다.\n",
    "\n",
    "실점, 피슈팅, 피유효슈팅 모두 우승권의 성적보다는 프리미어리그 평균의 데이터에 더 가까운 모습을 보여주고 있습니다.\n",
    "\n",
    "이제는 단순한 수치 외에 조금 더 자세한 데이터를 분석해보도록 하겠습니다.\n",
    "\n",
    "___\n",
    "\n",
    "## 토트넘의 위닝 멘탈리티\n",
    "\n",
    "전반전이 지고 있을 때 비기거나 이긴 경기의 비율을 알아보겠습니다.\n",
    "\n",
    "무릇 강팀이라면 가지고 있어야 할 위닝 멘탈리티의 척도를 이를 통해 알아볼 수 있을 것입니다."
   ]
  },
  {
   "cell_type": "code",
   "execution_count": 201,
   "id": "870c103d-3a0f-440f-aaa3-e87489c23a93",
   "metadata": {},
   "outputs": [
    {
     "data": {
      "text/plain": [
       "([<matplotlib.axis.XTick at 0x1f9b2a8f760>,\n",
       "  <matplotlib.axis.XTick at 0x1f9b2a8f1c0>,\n",
       "  <matplotlib.axis.XTick at 0x1f9b298fd90>,\n",
       "  <matplotlib.axis.XTick at 0x1f9b2992fd0>,\n",
       "  <matplotlib.axis.XTick at 0x1f9b2992160>,\n",
       "  <matplotlib.axis.XTick at 0x1f9b21d67f0>],\n",
       " [Text(0, 0, 'Tot_H'),\n",
       "  Text(1, 0, 'Tot_A'),\n",
       "  Text(2, 0, 'Winner_H'),\n",
       "  Text(3, 0, 'Winner_A'),\n",
       "  Text(4, 0, 'Leage_H'),\n",
       "  Text(5, 0, 'Leage_A')])"
      ]
     },
     "execution_count": 201,
     "metadata": {},
     "output_type": "execute_result"
    },
    {
     "data": {
      "image/png": "[encoded data removed]",
      "text/plain": [
       "<Figure size 1200x500 with 1 Axes>"
      ]
     },
     "metadata": {},
     "output_type": "display_data"
    }
   ],
   "source": [
    "teams_wecando = [\n",
    "    len(leage_tot_home[(leage_tot_home.HTR == 'A') & (leage_tot_home.FTR != 'A')]) / \n",
    "    len(leage_tot_home[leage_tot_home.HTR == 'A']) * 100,\n",
    "    len(leage_tot_away[(leage_tot_away.HTR == 'H') & (leage_tot_away.FTR != 'H')]) / \n",
    "    len(leage_tot_away[leage_tot_away.HTR == 'H']) * 100,\n",
    "    len(leage_winner_home[(leage_winner_home.HTR == 'A') & (leage_winner_home.FTR != 'A')]) / \n",
    "    len(leage_winner_home[leage_winner_home.HTR == 'A']) * 100,\n",
    "    len(leage_winner_away[(leage_winner_away.HTR == 'H') & (leage_winner_away.FTR != 'H')]) / \n",
    "    len(leage_winner_away[leage_winner_away.HTR == 'H']) * 100,\n",
    "    len(leage_00[(leage_00.HTR == 'A') & (leage_00.FTR != 'A')]) / \n",
    "    len(leage_00[leage_00.HTR == 'A']) * 100,\n",
    "    len(leage_00[(leage_00.HTR == 'H') & (leage_00.FTR != 'H')]) / \n",
    "    len(leage_00[leage_00.HTR == 'H']) * 100,\n",
    "]\n",
    "\n",
    "fig, ax = plt.subplots(figsize = (12,5))\n",
    "ax.bar(range(6), teams_wecando, \n",
    "        color = ['purple', 'purple', 'skyblue', 'skyblue', 'lightgreen', 'lightgreen'],\n",
    "        width = 0.4)\n",
    "ax.set(title = 'Winning Mentality',\n",
    "       ylabel = 'changed for %')\n",
    "ax.axhline(y = teams_wecando[0], color='red', linestyle='--')\n",
    "ax.axhline(y = teams_wecando[1], color='blue', linestyle='--')\n",
    "plt.xticks(range(6), xlabels)"
   ]
  },
  {
   "cell_type": "markdown",
   "id": "1159f7b3-dc68-4390-ae2a-7b868f29de6d",
   "metadata": {},
   "source": [
    "전반전 결과가 상대팀 승리일 경우에(분모) 경기 결과가 비기거나 승리(분자)하는 비율입니다.\n",
    "\n",
    "우승팀들의 데이터와 프리미어리그 평균의 데이터 중간에 위치한 모습입니다. 다른 지표들에 비해 프리미어리그 평균과의 차이가 어느 정도 있지만,\n",
    "\n",
    "우승권 경쟁을 위해서는 조금 더 분발할 필요가 있어 보입니다.\n",
    "\n",
    "특히 원정 경기에서 전반전을 끌려가고 있을 때 승점을 획득할 확률을 높일 필요가 커 보입니다."
   ]
  },
  {
   "cell_type": "markdown",
   "id": "a8b0dd9b-b0c1-4444-88c6-7c7423ee1b67",
   "metadata": {},
   "source": [
    "_____\n",
    "이번에는 반대로 이기고 있는 경기를 역전당해 승점 3점을 획득하지 못한 경기의 비율을 파악해 보겠습니다.\n",
    "\n",
    "승리를 지키는 것 또한 중요한 일이기 때문에, 이렇게 날려버린 승점이 많으면 우승은 영원히 꿈으로 남을 수 밖에 없겠습니다."
   ]
  },
  {
   "cell_type": "code",
   "execution_count": 202,
   "id": "0b153981-3ff8-4479-9a17-5913e02a9d87",
   "metadata": {},
   "outputs": [
    {
     "data": {
      "text/plain": [
       "([<matplotlib.axis.XTick at 0x1f9b29a4850>,\n",
       "  <matplotlib.axis.XTick at 0x1f9b29a4af0>,\n",
       "  <matplotlib.axis.XTick at 0x1f9b29a4940>,\n",
       "  <matplotlib.axis.XTick at 0x1f9b467f340>,\n",
       "  <matplotlib.axis.XTick at 0x1f9b43411f0>,\n",
       "  <matplotlib.axis.XTick at 0x1f9b4341af0>],\n",
       " [Text(0, 0, 'Tot_H'),\n",
       "  Text(1, 0, 'Tot_A'),\n",
       "  Text(2, 0, 'Winner_H'),\n",
       "  Text(3, 0, 'Winner_A'),\n",
       "  Text(4, 0, 'Leage_H'),\n",
       "  Text(5, 0, 'Leage_A')])"
      ]
     },
     "execution_count": 202,
     "metadata": {},
     "output_type": "execute_result"
    },
    {
     "data": {
      "image/png": "[encoded data removed]",
      "text/plain": [
       "<Figure size 1200x500 with 1 Axes>"
      ]
     },
     "metadata": {},
     "output_type": "display_data"
    }
   ],
   "source": [
    "teams_Lostgame = [\n",
    "    len(leage_tot_home[(leage_tot_home.HTR == 'H') & (leage_tot_home.FTR != 'H')]) / \n",
    "    len(leage_tot_home[leage_tot_home.HTR == 'H']) * 100,\n",
    "    len(leage_tot_away[(leage_tot_away.HTR == 'A') & (leage_tot_away.FTR != 'A')]) / \n",
    "    len(leage_tot_away[leage_tot_away.HTR == 'A']) * 100,\n",
    "    len(leage_winner_home[(leage_winner_home.HTR == 'H') & (leage_winner_home.FTR != 'H')]) / \n",
    "    len(leage_winner_home[leage_winner_home.HTR == 'H']) * 100,\n",
    "    len(leage_winner_away[(leage_winner_away.HTR == 'A') & (leage_winner_away.FTR != 'A')]) / \n",
    "    len(leage_winner_away[leage_winner_away.HTR == 'A']) * 100,\n",
    "    len(leage_00[(leage_00.HTR == 'H') & (leage_00.FTR != 'H')]) / \n",
    "    len(leage_00[leage_00.HTR == 'H']) * 100,\n",
    "    len(leage_00[(leage_00.HTR == 'A') & (leage_00.FTR != 'A')]) / \n",
    "    len(leage_00[leage_00.HTR == 'A']) * 100,\n",
    "]\n",
    "\n",
    "fig, ax = plt.subplots(figsize = (12,5))\n",
    "ax.bar(range(6), teams_Lostgame, \n",
    "        color = ['purple', 'purple', 'skyblue', 'skyblue', 'lightgreen', 'lightgreen'],\n",
    "        width = 0.4)\n",
    "ax.set(title = 'Game almost win',\n",
    "       ylabel = 'changed for %')\n",
    "ax.axhline(y = teams_Lostgame[0], color='red', linestyle='--')\n",
    "ax.axhline(y = teams_Lostgame[1], color='blue', linestyle='--')\n",
    "plt.xticks(range(6), xlabels)"
   ]
  },
  {
   "cell_type": "markdown",
   "id": "8d7bf978-99b5-4bbd-a2ad-a21989aa93bc",
   "metadata": {},
   "source": [
    "우승팀의 데이터에 비하여, 승점을 잃어버린 경기의 비율은 홈과 원정 모두 두 배 가까이 높게 나타났습니다.\n",
    "\n",
    "특히 원정에서의 역전패 비율은 프리미어리그 평균보다 높게 나타나, 토트넘의 원정 경기력이 상당히 약하다는 것을 알 수 있었습니다.\n",
    "\n",
    "이번 분석에서는 토트넘이 우승권 경쟁이 아니라 중위권 경쟁 팀의 데이터에 가까운 성적을 보여 주고 있다는 것을 알 수 있습니다."
   ]
  },
  {
   "cell_type": "markdown",
   "id": "eac0c510-7679-44d2-8e89-a178649fd650",
   "metadata": {},
   "source": [
    "____\n",
    "토트넘의 강팀 상대 승률 또한 알아보겠습니다.\n",
    "\n",
    "우승을 하기 위해서는 약팀과의 경기 결과도 중요하지만 무엇보다도 승점으로 경쟁을 할 강팀들과의 경기 결과 역시 중요합니다."
   ]
  },
  {
   "cell_type": "code",
   "execution_count": 203,
   "id": "afc27675-cf55-4356-b4d3-e4801257d159",
   "metadata": {},
   "outputs": [
    {
     "name": "stdout",
     "output_type": "stream",
     "text": [
      "AwayTeam    FTR\n",
      "Arsenal     H      38.095238\n",
      "Man United  H      19.047619\n",
      "Liverpool   H      42.857143\n",
      "Chelsea     H      28.571429\n",
      "Man City    H      55.000000\n",
      "Name: proportion, dtype: float64 \n",
      "\n",
      " HomeTeam    FTR\n",
      "Arsenal     A       4.761905\n",
      "Man United  A      19.047619\n",
      "Liverpool   A       4.761905\n",
      "Chelsea     A       4.761905\n",
      "Man City    A      40.000000\n",
      "Name: proportion, dtype: float64\n"
     ]
    }
   ],
   "source": [
    "tot_home_vs_big6 = (\n",
    "    leage_tot_home\n",
    "    .groupby('AwayTeam')\n",
    "    .FTR.value_counts(normalize = True)\n",
    "    .loc[['Arsenal','Man United', 'Liverpool', 'Chelsea', 'Man City'], 'H']\n",
    "    * 100\n",
    ")\n",
    "tot_away_vs_big6 = (\n",
    "    leage_tot_away\n",
    "    .groupby('HomeTeam')\n",
    "    .FTR.value_counts(normalize = True)\n",
    "    .loc[['Arsenal','Man United', 'Liverpool', 'Chelsea', 'Man City'], 'A']\n",
    "    * 100\n",
    ")\n",
    "print(tot_home_vs_big6,'\\n\\n', tot_away_vs_big6)"
   ]
  },
  {
   "cell_type": "code",
   "execution_count": 204,
   "id": "22f7c87b-523a-45f6-aa19-8b427684ce34",
   "metadata": {},
   "outputs": [
    {
     "data": {
      "text/plain": [
       "<matplotlib.lines.Line2D at 0x1f9b26cd970>"
      ]
     },
     "execution_count": 204,
     "metadata": {},
     "output_type": "execute_result"
    },
    {
     "data": {
      "image/png": "[encoded data removed]",
      "text/plain": [
       "<Figure size 1200x800 with 1 Axes>"
      ]
     },
     "metadata": {},
     "output_type": "display_data"
    }
   ],
   "source": [
    "fig, ax = plt.subplots(figsize = (12, 8))\n",
    "ax.bar(np.arange(5) - 0.2,\n",
    "       tot_home_vs_big6, \n",
    "       color = ['#B90000', '#EB0000', '#FF3232', '#0000FF', '#50D6FF'],\n",
    "       width = 0.3)\n",
    "ax.bar(np.arange(5) + 0.2,\n",
    "       tot_away_vs_big6, \n",
    "       color = ['#B90000', '#EB0000', '#FF3232', '#0000FF', '#50D6FF'],\n",
    "       width = 0.3,)\n",
    "ax.set(title = 'Vs Big 6',\n",
    "       ylabel = 'changed for %')\n",
    "ax.set_xticks(range(5))\n",
    "ax.set_xticklabels(['vs Arsenal','vs M.United', 'vs Liverpool', 'vs Chelsea', 'vs M.City'])\n",
    "ax.axhline(y = 50, color='red', linestyle='--')"
   ]
  },
  {
   "cell_type": "markdown",
   "id": "ad5ed6cf-8800-45ef-ae85-9caa6239adec",
   "metadata": {},
   "source": [
    "홈 경기의 경우도 맨시티를 제외하면 50% 이하의 승률을 보였으며,\n",
    "\n",
    "원정 경기의 경우도 40%의 맨시티를 제외하면 모두 20% 이하의 저조한 승률을 보여주고 있습니다.\n",
    "\n",
    "토트넘의 Big6(6개의 강팀)를 상대로 한 경기 결과는 상당히 저조한 것을 알 수 있었습니다.\n",
    "\n",
    "이는 토트넘이 우승에 도전하지 못하는 큰 원인 중 하나라고 유추해 볼 수 있습니다."
   ]
  },
  {
   "cell_type": "code",
   "execution_count": 205,
   "id": "716b88c2-4a40-41be-8631-2aa43b4f05b1",
   "metadata": {},
   "outputs": [
    {
     "data": {
      "text/plain": [
       "(AwayTeam    FTR\n",
       " Arsenal     H      1\n",
       " Man United  A      1\n",
       " Liverpool   H      1\n",
       " Chelsea     H      1\n",
       " Tottenham   H      1\n",
       " Name: count, dtype: int64,\n",
       " HomeTeam    FTR\n",
       " Arsenal     A      1\n",
       " Man United  A      1\n",
       " Liverpool   H      1\n",
       " Chelsea     A      1\n",
       " Tottenham   A      1\n",
       " Name: count, dtype: int64)"
      ]
     },
     "execution_count": 205,
     "metadata": {},
     "output_type": "execute_result"
    }
   ],
   "source": [
    "ManCity_win_season = (\n",
    "    leage_00[(leage_00.Season == '2017-18') & (leage_00.HomeTeam == 'Man City')]\n",
    "    .groupby('AwayTeam')\n",
    "    .FTR.value_counts()\n",
    "    .loc[['Arsenal','Man United', 'Liverpool', 'Chelsea', 'Tottenham']],\n",
    "    leage_00[(leage_00.Season == '2017-18') & (leage_00.AwayTeam == 'Man City')]\n",
    "    .groupby('HomeTeam')\n",
    "    .FTR.value_counts()\n",
    "    .loc[['Arsenal','Man United', 'Liverpool', 'Chelsea', 'Tottenham']]\n",
    ")\n",
    "ManCity_win_season"
   ]
  },
  {
   "cell_type": "markdown",
   "id": "06e5c2b8-e9a0-4209-aa86-49031e3c23e2",
   "metadata": {},
   "source": [
    "조금은 극단적인 비교를 하기 위해 가져온 2017-18시즌의 우승팀 맨시티의 데이터입니다.\n",
    "\n",
    "Big6 팀을 상대로 홈과 원정 모두 80%의 승률을 기록하며 우승을 했던 시즌입니다.\n",
    "\n",
    "이 시즌에서 맨시티는 역사상 최대 승점 기록인 100점을 기록하며 우승을 했습니다.\n",
    "\n",
    "극단적인 비교이지만, 우승에 도전하기 위해서 강팀들과의 대전의 결과가 얼마나 중요한지를 알 수 있습니다.\n",
    "\n",
    "토트넘의 경우 강팀과의 대결에서 더 좋은 성적을 거두면 좋겠습니다."
   ]
  },
  {
   "cell_type": "markdown",
   "id": "16a14f02-ab31-4045-9406-658c7d4b4927",
   "metadata": {},
   "source": [
    "____\n",
    "\n",
    "# 데이터로부터의 의미 도출\n",
    "\n",
    "토트넘의 공격력은 프리미어리그 우승팀과 프리미어리그 평균값의 중간에 위치하고 있습니다.\n",
    "\n",
    "슈팅, 유효슈팅을 득점으로 연결하는 비율, 즉 공격진의 결정력은 프리미어리그 평균값에 근사했습니다. 우승을 노리기 위해서는 결정력이 더 좋은 공격진의 영입 또는 기존 선수들의 성장을 필요로 한다는 결론을 도출할 수 있습니다.\n",
    "\n",
    "만들어 내는 기회의 수 자체는 우승팀에 비해 약간 모자란 것으로 나타났습니다.\n",
    "\n",
    "약 1~2회의 유효슈팅이, 약 2.5회의 슈팅이 우승팀에 비해 모자랐습니다.\n",
    "\n",
    "이는 결정력뿐만 아니라 기회 창출 자체도 우승팀에 비해 약점이라는 것을 나타냅니다.\n",
    "\n",
    "이는 기회 창출에 적극적인 또는 개인 능력이 출중한 미드필더의 영입 등을 필요로 한다는 것을 말합니다.\n",
    "\n",
    "\n",
    "\n",
    "또한 토트넘은 우승팀보다, 프리미어리그 평균보다 더 많은 카드를 동반한 반칙을 당하고 있습니다.\n",
    "\n",
    "이는 토트넘에 역습에 용이한 빠른 선수 또는 개인기가 뛰어난 선수가 있다는 것을 나타지만,\n",
    "\n",
    "상대의 반칙을 통해 평균보다 많은 기회를 잃고 있다는 것을 나타내기도 합니다.\n",
    "\n",
    "이는 해석의 여지가 있는 데이터 분석 결과라고 하겠습니다.\n",
    "\n",
    "\n",
    "\n",
    "토트넘은 우승팀에 비해 두 배 많은 경기에서 고전하였습니다. 프리미어리그 평균보다는 적지만 우승팀에 비해서는 많은 비율이었습니다.\n",
    "\n",
    "특히 원정 경기의 1/5을 8번의 슈팅조차 하지 못하고 고전하였습니다. 이는 우승 경쟁에 치명적인 약점이 될 수 있는 수치입니다.\n",
    "\n",
    "이것은 토트넘이 토트넘을 압도하는 강팀, 또는 수비적인 전술을 사용하는 팀을 상대로 고전하고 있는 것을 말합니다.\n",
    "\n",
    "이는 토트넘의 고질적인 문제로, 경기의 주도권을 잡을 수 있는 전술 또는 그런 선수들 또는 수비적 전술을 뚫어낼 수 있는 좋은 개인기의 선수 또는\n",
    "중거리 능력이 좋은 미드필더 등이 필요하다고 해석할 수 있습니다.\n",
    "\n",
    "\n",
    "\n",
    "토트넘의 수비력은 상당히 아쉬운 결과를 나타내고 있습니다.\n",
    "\n",
    "실점 수치는 우승팀의 그것보다는 프리미어리그 평균 수치에 근사하게 나타나고 있습니다.\n",
    "\n",
    "우승팀보다는 평균적으로 약 0.2골 많이 실점하고 있는 것으로 나타났습니다.\n",
    "\n",
    "이의 원인으로는 상대에게 허용하는 슈팅과 유효슈팅의 비율을 들 수 있겠습니다.\n",
    "\n",
    "우승팀보다 상대에게 약 2번의 슈팅과 유효슈팅을 더 허용했으며, 이 수치는 프리미어리그 평균치와 비슷했습니다.\n",
    "\n",
    "\n",
    "\n",
    "토트넘의 후반 경기력 및 역전 능력에 대해 알아본 결과는 다음과 같습니다.\n",
    "\n",
    "토트넘은 전반에 상대의 리드를 허용한 경우, 홈에서는 약 45%, 원정에서는 약 27%의 확률로 승점을 획득했습니다.\n",
    "\n",
    "이에 비해 우승팀들은 같은 상황에서 홈에서 약 57%, 원정에서 약 47%의 확률로 승점을 획득했습니다.\n",
    "\n",
    "단순 계산을 통해 비교해 봐도 토트넘은 우승팀에 비해 15%p의 경기에서 승점을 획득하지 못하고 있습니다. \n",
    "\n",
    "정확하지 않은 계산이지만 프리미어리그는 총 38경기이기 때문에, 15%인 5경기에서 승점을 획득하지 못한다면 단순 계산으로 10~15점의 승점을 뒤쳐지게 됩니다.\n",
    "\n",
    "이는 토트넘의 치명적인 약점이라고 할 수 있겠습니다.\n",
    "\n",
    "\n",
    "\n",
    "반대로 전반전을 리드하고 있는 경기에서 역전당하여 패배한 경기의 비율도 알아보았습니다.\n",
    "\n",
    "이 분석에서 토트넘은 홈 경기에서도 우승팀의 두 배 많은 경기에서 역전패를 당했고(약 15%의 경기)\n",
    "\n",
    "원정 경기에서는 프리미어리그 평균보다 많은 역전패를 당한 것으로 나타났습니다.\n",
    "\n",
    "\n",
    "\n",
    "토트넘이 강팀을 상대한 경기에서의 성적 또한 알아보았습니다.\n",
    "\n",
    "Big6 팀들을 상대로 한 경기를 분석한 결과, 맨시티를 제외한 모든 팀에게 홈에서는 50% 미만의 승률을 보였고\n",
    "\n",
    "원정 경기에서 역시 맨시티를 제외한 모든 팀에게 20% 미만, 심하게는 4%대의 승률을 보였습니다.\n",
    "\n",
    "강팀과의 경기는 직접적인 승점 경쟁을 하는 팀과의 경기이기에 더 중요한 의미가 있는데, 강팀과의 경기 결과가\n",
    "이처럼 저조하다면 토트넘은 우승권에 도전하기가 더 어려울 것이라고 할 수 있겠습니다.\n",
    "\n",
    "맨시티가 우승했던 시즌과의 간단한 비교를 통해 이의 중요성을 다시 알아보기도 했습니다.\n",
    "\n",
    "___________\n",
    "\n",
    "## 최종적으로 정리하자면,\n",
    "\n",
    "토트넘의 많은 데이터는 프리미어리그 우승팀보다는 프리미어리그 평균치에 가깞거나, 두 데이터 사이에 위치하고 있었습니다.\n",
    "\n",
    "토트넘의 성적 역시 우승권보다는 우승권 바로 밑에서 중위권 사이를 유지해 온 것을 보면 그 이유를 데이터를 통해 잘 찾아내었다고 할 수 있겠습니다.\n",
    "\n",
    "특히 의미 있었던 경기 지배력(역전의 경기와, 역전당하지 않는 경기력)의 데이터를 더 좋게 바꿀 필요가 있어 보입니다.\n",
    "\n",
    "데이터 분석을 통해 토트넘의 대략적인 성적과 세부 팀 성적들의 데이터를 알아볼 수 있었습니다.\n",
    "\n",
    "## 하지만 아쉬운 부분도 많았습니다.\n",
    "\n",
    "많은 기간의 데이터를 사용하고자 이 데이터셋을 선택했습니다만, 경기 내부적인 데이터들이 많았다면 더 의미 있는 결과를 도출해 낼 수 있지 않았을까\n",
    "하는 아쉬움이 남습니다.\n",
    "\n",
    "예를 들면 패스 횟수, 오프사이드 횟수, 기회 창출, 선수별 경기 데이터, 뛴 거리 등 상관관계와 의미를 더 도출할 수 있는 컬럼들이 있었다면\n",
    "더 재미있는 데이터 분석이 되지 않았을까 하는 마음 또한 남습니다.\n",
    "\n",
    "이런 데이터셋이 없지는 않았지만, 데이터 확보 기간이 너무 짧거나, 유해 사이트의 데이터거나, 가져오기 난해한 형식의 파일인 등의 이유로 사용할 수 없는 데이터여서 더 아쉬움이 남습니다."
   ]
  },
  {
   "cell_type": "markdown",
   "id": "c8cc1e13-8133-4e70-9d2f-39b9b2fc538a",
   "metadata": {},
   "source": [
    "\n",
    "\n",
    "______\n",
    "\n",
    "\n",
    "지금까지\n",
    "\n",
    "## 산업데이터사이언스학부 201902405 장원익\n",
    "\n",
    "파이썬데이터분석 기말과제였습니다.\n",
    "\n",
    "감사합니다."
   ]
  },
  {
   "cell_type": "markdown",
   "id": "a81f7b47-25b4-46c4-a200-f2c974fc99ee",
   "metadata": {},
   "source": [
    "___\n",
    "## P.S. 추가 분석\n",
    "\n",
    "토트넘의 승점 추이를 분석합니다. 전반기에 비해 후반기에 힘이 빠지는지 등을 보기 위해서입니다."
   ]
  },
  {
   "cell_type": "code",
   "execution_count": 340,
   "id": "d8a116ab-80ab-4ae2-b6d2-75b7fecb0f79",
   "metadata": {},
   "outputs": [
    {
     "data": {
      "text/plain": [
       "<matplotlib.lines.Line2D at 0x1f9bfa27880>"
      ]
     },
     "execution_count": 340,
     "metadata": {},
     "output_type": "execute_result"
    },
    {
     "data": {
      "image/png": "[encoded data removed]",
      "text/plain": [
       "<Figure size 1000x800 with 1 Axes>"
      ]
     },
     "metadata": {},
     "output_type": "display_data"
    }
   ],
   "source": [
    "leage_tot = pd.concat([leage_tot_home, leage_tot_away], axis = 0)\n",
    "leage_tot = leage_tot.sort_values(by = 'DateTime')\n",
    "\n",
    "def setpoint(row):\n",
    "    if row.HomeTeam == 'Tottenham':\n",
    "        if row.FTR == 'H':\n",
    "            return 3\n",
    "        elif row.FTR == 'D':\n",
    "            return 1\n",
    "        else:\n",
    "            return 0\n",
    "    elif row.AwayTeam == 'Tottenham':\n",
    "        if row.FTR == 'A':\n",
    "            return 3\n",
    "        elif row.FTR == 'D':\n",
    "            return 1\n",
    "        else:\n",
    "            return 0\n",
    "\n",
    "leage_tot['point'] = leage_tot.apply(setpoint, axis = 1)\n",
    "leage_tot['total_points'] = leage_tot.groupby('Season')['point'].cumsum()\n",
    "\n",
    "data = []\n",
    "for season in (leage_tot.Season.unique()):\n",
    "    season_data = leage_tot.loc[leage_tot.Season == season, 'total_points']\n",
    "    data.append(season_data.tolist())\n",
    "tot_points = pd.DataFrame(list(zip(*data)), columns = (leage_tot.Season.unique()))\n",
    "\n",
    "tot_points_mean = tot_points.mean(axis = 1)\n",
    "\n",
    "fig, ax = plt.subplots(figsize = (10, 8))\n",
    "ax.plot(range(len(tot_points_mean)),\n",
    "        tot_points_mean,\n",
    "        color = 'purple')\n",
    "ax.set(title = \"Tottenham's points\",\n",
    "       ylabel = 'points')\n",
    "ax.axhline(y = tot_points_mean[37], color='skyblue', linestyle='--')"
   ]
  },
  {
   "cell_type": "markdown",
   "id": "b1be11fc-2137-4460-ba00-b0723cb8bc10",
   "metadata": {},
   "source": [
    "여러 시즌의 평균적인 추이를 보았을 때, 토트넘은 전반기에 비해 후반기에 특별히 힘이 빠지거나 급격히 저조한 성적을 보이는 등의 변화는 일어나지 않았습니다. 다만 평균적인 최종 성적이 60점보다 살짝 높은 정도로 상당히 낮은 점수를 보였습니다.\n",
    "\n",
    "여러모로 마지막까지 토트넘에게도 아쉬움이 많이 남은 데이터 분석이었습니다.\n"
   ]
  }
 ],
 "metadata": {
  "kernelspec": {
   "display_name": "Python 3 (ipykernel)",
   "language": "python",
   "name": "python3"
  },
  "language_info": {
   "codemirror_mode": {
    "name": "ipython",
    "version": 3
   },
   "file_extension": ".py",
   "mimetype": "text/x-python",
   "name": "python",
   "nbconvert_exporter": "python",
   "pygments_lexer": "ipython3",
   "version": "3.9.13"
  }
 },
 "nbformat": 4,
 "nbformat_minor": 5
}
