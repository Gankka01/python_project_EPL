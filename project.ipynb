{
 "cells": [
  {
   "cell_type": "markdown",
   "id": "dfadb7bf-85c0-453b-9409-d3d0dc7d2fd4",
   "metadata": {},
   "source": [
    "# 파이썬 데이터분석 프로젝트"
   ]
  },
  {
   "cell_type": "markdown",
   "id": "7e2631d2-255b-42f3-99df-bb51235c2095",
   "metadata": {},
   "source": [
    "## 데이터 딕셔너리\n",
    "\n",
    "Season\tMatch Season\n",
    "\n",
    "DateTime\tMatch Date and Time (yyyy-mm-dd hh:mm:ss)\n",
    "\n",
    "HomeTeam\tHome Team\n",
    "\n",
    "AwayTeam\tAway Team\n",
    "\n",
    "FTHG\tFull Time Home Team Goals\n",
    "\n",
    "FTAG\tFull Time Away Team Goals\n",
    "\n",
    "FTR\tFull Time Result (H=Home Win, D=Draw, A=Away Win)\n",
    "\n",
    "HTHG\tHalf Time Home Team Goals\n",
    "\n",
    "HTAG\tHalf Time Away Team Goals\n",
    "\n",
    "HTR\tHalf Time Result (H=Home Win, D=Draw, A=Away Win)\n",
    "\n",
    "Referee\tMatch Referee\n",
    "\n",
    "HS\tHome Team Shots\n",
    "\n",
    "AS\tAway Team Shots\n",
    "\n",
    "HST\tHome Team Shots on Target\n",
    "\n",
    "AST\tAway Team Shots on Target\n",
    "\n",
    "HC\tHome Team Corners\n",
    "\n",
    "AC\tAway Team Corners\n",
    "\n",
    "HF\tHome Team Fouls Committed\n",
    "\n",
    "AF\tAway Team Fouls Committed\n",
    "\n",
    "HY\tHome Team Yellow Cards\n",
    "\n",
    "AY\tAway Team Yellow Cards\n",
    "\n",
    "HR\tHome Team Red Cards\n",
    "\n",
    "AR\tAway Team Red Cards"
   ]
  },
  {
   "cell_type": "code",
   "execution_count": 224,
   "id": "11ba9cd8-9d1a-4aff-a6d1-2cabcffc2d5e",
   "metadata": {},
   "outputs": [],
   "source": [
    "import math\n",
    "import pandas as pd\n",
    "import numpy as np"
   ]
  },
  {
   "cell_type": "code",
   "execution_count": 2,
   "id": "73c1d90d-32ae-40d5-8935-34a629dba9d5",
   "metadata": {},
   "outputs": [],
   "source": [
    "leage = pd.read_csv('archive/results.csv', encoding='cp949')"
   ]
  },
  {
   "cell_type": "code",
   "execution_count": 3,
   "id": "6f00e7e4-9297-420c-a557-84afa449a1cc",
   "metadata": {},
   "outputs": [
    {
     "data": {
      "text/html": [
       "<div>\n",
       "<style scoped>\n",
       "    .dataframe tbody tr th:only-of-type {\n",
       "        vertical-align: middle;\n",
       "    }\n",
       "\n",
       "    .dataframe tbody tr th {\n",
       "        vertical-align: top;\n",
       "    }\n",
       "\n",
       "    .dataframe thead th {\n",
       "        text-align: right;\n",
       "    }\n",
       "</style>\n",
       "<table border=\"1\" class=\"dataframe\">\n",
       "  <thead>\n",
       "    <tr style=\"text-align: right;\">\n",
       "      <th></th>\n",
       "      <th>Season</th>\n",
       "      <th>DateTime</th>\n",
       "      <th>HomeTeam</th>\n",
       "      <th>AwayTeam</th>\n",
       "      <th>FTHG</th>\n",
       "      <th>FTAG</th>\n",
       "      <th>FTR</th>\n",
       "      <th>HTHG</th>\n",
       "      <th>HTAG</th>\n",
       "      <th>HTR</th>\n",
       "      <th>...</th>\n",
       "      <th>HST</th>\n",
       "      <th>AST</th>\n",
       "      <th>HC</th>\n",
       "      <th>AC</th>\n",
       "      <th>HF</th>\n",
       "      <th>AF</th>\n",
       "      <th>HY</th>\n",
       "      <th>AY</th>\n",
       "      <th>HR</th>\n",
       "      <th>AR</th>\n",
       "    </tr>\n",
       "  </thead>\n",
       "  <tbody>\n",
       "    <tr>\n",
       "      <th>11108</th>\n",
       "      <td>2021-22</td>\n",
       "      <td>2022-04-09T17:30:00Z</td>\n",
       "      <td>Aston Villa</td>\n",
       "      <td>Tottenham</td>\n",
       "      <td>0</td>\n",
       "      <td>4</td>\n",
       "      <td>A</td>\n",
       "      <td>0.0</td>\n",
       "      <td>1.0</td>\n",
       "      <td>A</td>\n",
       "      <td>...</td>\n",
       "      <td>8.0</td>\n",
       "      <td>5.0</td>\n",
       "      <td>9.0</td>\n",
       "      <td>3.0</td>\n",
       "      <td>12.0</td>\n",
       "      <td>14.0</td>\n",
       "      <td>2.0</td>\n",
       "      <td>3.0</td>\n",
       "      <td>0.0</td>\n",
       "      <td>0.0</td>\n",
       "    </tr>\n",
       "    <tr>\n",
       "      <th>11109</th>\n",
       "      <td>2021-22</td>\n",
       "      <td>2022-04-10T14:00:00Z</td>\n",
       "      <td>Brentford</td>\n",
       "      <td>West Ham</td>\n",
       "      <td>2</td>\n",
       "      <td>0</td>\n",
       "      <td>H</td>\n",
       "      <td>0.0</td>\n",
       "      <td>0.0</td>\n",
       "      <td>D</td>\n",
       "      <td>...</td>\n",
       "      <td>7.0</td>\n",
       "      <td>1.0</td>\n",
       "      <td>4.0</td>\n",
       "      <td>6.0</td>\n",
       "      <td>2.0</td>\n",
       "      <td>6.0</td>\n",
       "      <td>0.0</td>\n",
       "      <td>1.0</td>\n",
       "      <td>0.0</td>\n",
       "      <td>0.0</td>\n",
       "    </tr>\n",
       "    <tr>\n",
       "      <th>11110</th>\n",
       "      <td>2021-22</td>\n",
       "      <td>2022-04-10T14:00:00Z</td>\n",
       "      <td>Leicester</td>\n",
       "      <td>Crystal Palace</td>\n",
       "      <td>2</td>\n",
       "      <td>1</td>\n",
       "      <td>H</td>\n",
       "      <td>2.0</td>\n",
       "      <td>0.0</td>\n",
       "      <td>H</td>\n",
       "      <td>...</td>\n",
       "      <td>3.0</td>\n",
       "      <td>3.0</td>\n",
       "      <td>3.0</td>\n",
       "      <td>4.0</td>\n",
       "      <td>11.0</td>\n",
       "      <td>12.0</td>\n",
       "      <td>1.0</td>\n",
       "      <td>1.0</td>\n",
       "      <td>0.0</td>\n",
       "      <td>0.0</td>\n",
       "    </tr>\n",
       "    <tr>\n",
       "      <th>11111</th>\n",
       "      <td>2021-22</td>\n",
       "      <td>2022-04-10T14:00:00Z</td>\n",
       "      <td>Norwich</td>\n",
       "      <td>Burnley</td>\n",
       "      <td>2</td>\n",
       "      <td>0</td>\n",
       "      <td>H</td>\n",
       "      <td>1.0</td>\n",
       "      <td>0.0</td>\n",
       "      <td>H</td>\n",
       "      <td>...</td>\n",
       "      <td>6.0</td>\n",
       "      <td>4.0</td>\n",
       "      <td>6.0</td>\n",
       "      <td>7.0</td>\n",
       "      <td>12.0</td>\n",
       "      <td>10.0</td>\n",
       "      <td>1.0</td>\n",
       "      <td>1.0</td>\n",
       "      <td>0.0</td>\n",
       "      <td>0.0</td>\n",
       "    </tr>\n",
       "    <tr>\n",
       "      <th>11112</th>\n",
       "      <td>2021-22</td>\n",
       "      <td>2022-04-10T16:30:00Z</td>\n",
       "      <td>Man City</td>\n",
       "      <td>Liverpool</td>\n",
       "      <td>2</td>\n",
       "      <td>2</td>\n",
       "      <td>D</td>\n",
       "      <td>2.0</td>\n",
       "      <td>1.0</td>\n",
       "      <td>H</td>\n",
       "      <td>...</td>\n",
       "      <td>5.0</td>\n",
       "      <td>4.0</td>\n",
       "      <td>4.0</td>\n",
       "      <td>1.0</td>\n",
       "      <td>9.0</td>\n",
       "      <td>11.0</td>\n",
       "      <td>1.0</td>\n",
       "      <td>4.0</td>\n",
       "      <td>0.0</td>\n",
       "      <td>0.0</td>\n",
       "    </tr>\n",
       "  </tbody>\n",
       "</table>\n",
       "<p>5 rows × 23 columns</p>\n",
       "</div>"
      ],
      "text/plain": [
       "        Season              DateTime     HomeTeam        AwayTeam  FTHG  FTAG   \n",
       "11108  2021-22  2022-04-09T17:30:00Z  Aston Villa       Tottenham     0     4  \\\n",
       "11109  2021-22  2022-04-10T14:00:00Z    Brentford        West Ham     2     0   \n",
       "11110  2021-22  2022-04-10T14:00:00Z    Leicester  Crystal Palace     2     1   \n",
       "11111  2021-22  2022-04-10T14:00:00Z      Norwich         Burnley     2     0   \n",
       "11112  2021-22  2022-04-10T16:30:00Z     Man City       Liverpool     2     2   \n",
       "\n",
       "      FTR  HTHG  HTAG HTR  ...  HST  AST   HC   AC    HF    AF   HY   AY   HR   \n",
       "11108   A   0.0   1.0   A  ...  8.0  5.0  9.0  3.0  12.0  14.0  2.0  3.0  0.0  \\\n",
       "11109   H   0.0   0.0   D  ...  7.0  1.0  4.0  6.0   2.0   6.0  0.0  1.0  0.0   \n",
       "11110   H   2.0   0.0   H  ...  3.0  3.0  3.0  4.0  11.0  12.0  1.0  1.0  0.0   \n",
       "11111   H   1.0   0.0   H  ...  6.0  4.0  6.0  7.0  12.0  10.0  1.0  1.0  0.0   \n",
       "11112   D   2.0   1.0   H  ...  5.0  4.0  4.0  1.0   9.0  11.0  1.0  4.0  0.0   \n",
       "\n",
       "        AR  \n",
       "11108  0.0  \n",
       "11109  0.0  \n",
       "11110  0.0  \n",
       "11111  0.0  \n",
       "11112  0.0  \n",
       "\n",
       "[5 rows x 23 columns]"
      ]
     },
     "execution_count": 3,
     "metadata": {},
     "output_type": "execute_result"
    }
   ],
   "source": [
    "#데이터 확인\n",
    "leage.tail()"
   ]
  },
  {
   "cell_type": "code",
   "execution_count": 4,
   "id": "509ccc40-7528-4620-8327-ca6a23304b6a",
   "metadata": {},
   "outputs": [
    {
     "data": {
      "text/plain": [
       "HomeTeam\n",
       "Arsenal             552\n",
       "Man United          552\n",
       "Liverpool           551\n",
       "Everton             551\n",
       "Tottenham           551\n",
       "Chelsea             550\n",
       "Newcastle           513\n",
       "West Ham            495\n",
       "Aston Villa         494\n",
       "Man City            456\n",
       "Southampton         419\n",
       "Blackburn           327\n",
       "Sunderland          304\n",
       "Leicester           302\n",
       "Fulham              285\n",
       "Middlesbrough       266\n",
       "Leeds               248\n",
       "West Brom           247\n",
       "Bolton              247\n",
       "Crystal Palace      227\n",
       "Stoke               190\n",
       "Norwich             172\n",
       "Coventry            156\n",
       "Wigan               152\n",
       "Charlton            152\n",
       "Wolves              149\n",
       "Burnley             148\n",
       "Watford             148\n",
       "Sheffield Weds      137\n",
       "Wimbledon           137\n",
       "Birmingham          133\n",
       "Swansea             133\n",
       "Derby               133\n",
       "Portsmouth          133\n",
       "QPR                 118\n",
       "Hull                 95\n",
       "Bournemouth          95\n",
       "Brighton             92\n",
       "Ipswich              80\n",
       "Sheffield United     78\n",
       "Nott'm Forest        78\n",
       "Reading              57\n",
       "Bradford             38\n",
       "Cardiff              38\n",
       "Huddersfield         38\n",
       "Oldham               21\n",
       "Swindon              21\n",
       "Barnsley             19\n",
       "Blackpool            19\n",
       "Brentford            16\n",
       "Name: count, dtype: int64"
      ]
     },
     "execution_count": 4,
     "metadata": {},
     "output_type": "execute_result"
    }
   ],
   "source": [
    "leage.HomeTeam.value_counts()"
   ]
  },
  {
   "cell_type": "code",
   "execution_count": 5,
   "id": "f344455d-60f0-4bbf-9c60-d4b9d2f71409",
   "metadata": {},
   "outputs": [
    {
     "name": "stdout",
     "output_type": "stream",
     "text": [
      "<class 'pandas.core.frame.DataFrame'>\n",
      "RangeIndex: 11113 entries, 0 to 11112\n",
      "Data columns (total 23 columns):\n",
      " #   Column    Non-Null Count  Dtype  \n",
      "---  ------    --------------  -----  \n",
      " 0   Season    11113 non-null  object \n",
      " 1   DateTime  11113 non-null  object \n",
      " 2   HomeTeam  11113 non-null  object \n",
      " 3   AwayTeam  11113 non-null  object \n",
      " 4   FTHG      11113 non-null  int64  \n",
      " 5   FTAG      11113 non-null  int64  \n",
      " 6   FTR       11113 non-null  object \n",
      " 7   HTHG      10189 non-null  float64\n",
      " 8   HTAG      10189 non-null  float64\n",
      " 9   HTR       10189 non-null  object \n",
      " 10  Referee   8289 non-null   object \n",
      " 11  HS        8289 non-null   float64\n",
      " 12  AS        8289 non-null   float64\n",
      " 13  HST       8289 non-null   float64\n",
      " 14  AST       8289 non-null   float64\n",
      " 15  HC        8289 non-null   float64\n",
      " 16  AC        8289 non-null   float64\n",
      " 17  HF        8289 non-null   float64\n",
      " 18  AF        8289 non-null   float64\n",
      " 19  HY        8289 non-null   float64\n",
      " 20  AY        8289 non-null   float64\n",
      " 21  HR        8289 non-null   float64\n",
      " 22  AR        8289 non-null   float64\n",
      "dtypes: float64(14), int64(2), object(7)\n",
      "memory usage: 2.0+ MB\n"
     ]
    }
   ],
   "source": [
    "leage.info()"
   ]
  },
  {
   "cell_type": "code",
   "execution_count": 6,
   "id": "a497901b-2957-4eeb-aa52-a4ba645cd3ee",
   "metadata": {},
   "outputs": [],
   "source": [
    "leage.sort_values(by = ['Season', 'DateTime'])\n",
    "#너무 과거의 시즌은 제외하도록 합니다\n",
    "leage_00 = leage[leage.Season >= '2000-01']"
   ]
  },
  {
   "cell_type": "markdown",
   "id": "81c4ab2a-ec89-4e06-922d-7bb292e86a2e",
   "metadata": {},
   "source": [
    "## 토트넘의 경기 결과를 도출하도록 합니다"
   ]
  },
  {
   "cell_type": "code",
   "execution_count": 7,
   "id": "bc8a7f25-6d2e-49ac-8c01-e6a6c3528511",
   "metadata": {},
   "outputs": [],
   "source": [
    "leage_tot = leage_00[(leage_00.HomeTeam == 'Tottenham') | (leage_00.AwayTeam == 'Tottenham')]\n",
    "leage_tot_home = leage_tot[leage_tot.HomeTeam == 'Tottenham']\n",
    "leage_tot_away = leage_tot[leage_tot.AwayTeam == 'Tottenham']"
   ]
  },
  {
   "cell_type": "markdown",
   "id": "aa48a6d5-5280-47da-96ed-e2fc8e6eb2cf",
   "metadata": {},
   "source": [
    "### 00-01 시즌, 09-10 시즌, 20-21시즌의 우승팀 데이터를 추출합니다"
   ]
  },
  {
   "cell_type": "code",
   "execution_count": 8,
   "id": "d65e808b-c204-4dae-8678-cfa06035f45b",
   "metadata": {},
   "outputs": [],
   "source": [
    "#00-01 시즌 우승팀: 맨체스터 유나이티드\n",
    "#09-10 시즌 우승팀: 첼시\n",
    "#20-21 시즌 우승팀: 맨체스터 시티\n",
    "\n",
    "leage_winner_00_01_home = leage_00[(leage_00.HomeTeam == 'Man United') & (leage_00.Season == '2000-01')]\n",
    "leage_winner_09_10_home = leage_00[(leage_00.HomeTeam == 'Chelsea') & (leage_00.Season == '2009-10')]\n",
    "leage_winner_20_21_home = leage_00[(leage_00.HomeTeam == 'Man City') & (leage_00.Season == '2020-21')]\n",
    "leage_winner_00_01_away = leage_00[(leage_00.AwayTeam == 'Man United') & (leage_00.Season == '2000-01')]\n",
    "leage_winner_09_10_away = leage_00[(leage_00.AwayTeam == 'Chelsea') & (leage_00.Season == '2009-10')]\n",
    "leage_winner_20_21_away = leage_00[(leage_00.AwayTeam == 'Man City') & (leage_00.Season == '2020-21')]"
   ]
  },
  {
   "cell_type": "markdown",
   "id": "598ab053-56f6-41b9-a639-7de70d7fc861",
   "metadata": {},
   "source": [
    "### 각 3시즌의 우승팀들의 공격력과 수비력을 추출합니다"
   ]
  },
  {
   "cell_type": "code",
   "execution_count": 148,
   "id": "16a3461f-4cc8-4f96-a275-443db1abbf05",
   "metadata": {},
   "outputs": [
    {
     "name": "stdout",
     "output_type": "stream",
     "text": [
      "홈: 득점과 유효슈팅\n",
      "FTHG    2.578947\n",
      "HST     8.000000\n",
      "dtype: float64\n",
      "FTHG     3.578947\n",
      "HST     12.105263\n",
      "dtype: float64\n",
      "FTHG    2.263158\n",
      "HST     6.315789\n",
      "dtype: float64\n",
      "\n",
      "홈: 실점과 상대 유효슈팅\n",
      "FTAG    0.631579\n",
      "AST     3.157895\n",
      "dtype: float64\n",
      "FTAG    0.736842\n",
      "AST     3.684211\n",
      "dtype: float64\n",
      "FTAG    0.894737\n",
      "AST     2.789474\n",
      "dtype: float64\n",
      "\n",
      "원정: 득점과 유효슈팅\n",
      "FTAG    1.578947\n",
      "AST     5.894737\n",
      "dtype: float64\n",
      "FTAG    1.842105\n",
      "AST     8.315789\n",
      "dtype: float64\n",
      "FTAG    2.105263\n",
      "AST     5.210526\n",
      "dtype: float64\n",
      "\n",
      "원정: 실점과 상대 유효슈팅\n",
      "FTHG    1.000000\n",
      "HST     4.421053\n",
      "dtype: float64\n",
      "FTHG    0.947368\n",
      "HST     4.684211\n",
      "dtype: float64\n",
      "FTHG    0.789474\n",
      "HST     2.473684\n",
      "dtype: float64\n",
      "\n",
      "프리미어리그 평균\n",
      "FTHG    1.519242\n",
      "HST     6.117264\n",
      "dtype: float64\n",
      "FTAG    1.155507\n",
      "AST     4.768247\n",
      "dtype: float64\n"
     ]
    }
   ],
   "source": [
    "print(\n",
    "    '홈: 득점과 유효슈팅\\n',\n",
    "    leage_winner_00_01_home.loc[:,['FTHG', 'HST']].mean(), '\\n',\n",
    "    leage_winner_09_10_home.loc[:,['FTHG', 'HST']].mean(), '\\n',\n",
    "    leage_winner_20_21_home.loc[:,['FTHG', 'HST']].mean(), '\\n',\n",
    "    sep = ''\n",
    ")\n",
    "print(\n",
    "    '홈: 실점과 상대 유효슈팅\\n',\n",
    "    leage_winner_00_01_home.loc[:,['FTAG', 'AST']].mean(), '\\n',\n",
    "    leage_winner_09_10_home.loc[:,['FTAG', 'AST']].mean(), '\\n',\n",
    "    leage_winner_20_21_home.loc[:,['FTAG', 'AST']].mean(), '\\n',\n",
    "    sep = ''\n",
    ")\n",
    "print(\n",
    "    '원정: 득점과 유효슈팅\\n',\n",
    "    leage_winner_00_01_away.loc[:,['FTAG', 'AST']].mean(), '\\n',\n",
    "    leage_winner_09_10_away.loc[:,['FTAG', 'AST']].mean(), '\\n',\n",
    "    leage_winner_20_21_away.loc[:,['FTAG', 'AST']].mean(), '\\n',\n",
    "    sep = ''\n",
    ")\n",
    "print(\n",
    "    '원정: 실점과 상대 유효슈팅\\n',\n",
    "    leage_winner_00_01_away.loc[:,['FTHG', 'HST']].mean(), '\\n',\n",
    "    leage_winner_09_10_away.loc[:,['FTHG', 'HST']].mean(), '\\n',\n",
    "    leage_winner_20_21_away.loc[:,['FTHG', 'HST']].mean(), '\\n',\n",
    "    sep = ''\n",
    ")\n",
    "\n",
    "#프리미어리그 평균도 구해 봅시다\n",
    "print(\n",
    "    '프리미어리그 평균',\n",
    "    leage_00.loc[:,['FTHG', 'HST']].mean(), \n",
    "    leage_00.loc[:,['FTAG', 'AST']].mean(), \n",
    "    sep = '\\n'\n",
    ")"
   ]
  },
  {
   "cell_type": "markdown",
   "id": "894cbb50-e61c-4862-aea0-ff3aeed359e2",
   "metadata": {},
   "source": [
    "#### 결론적으로 우승팀의 기록을 살펴보면\n",
    "\n",
    "홈 경기에서 평균 2.7의 득점을, 약 9번의 유효슈팅을 했다. 약 0.7점을 실점했고 약 3번의 유효슈팅을 허용했다.\n",
    "\n",
    "원정 경기에서 약 1.8점을 득점했고 약 6.5번의 유효슈팅을 했다. 약 0.9점을 실점했고 약 4번의 유효슈팅을 허용했다."
   ]
  },
  {
   "cell_type": "code",
   "execution_count": 68,
   "id": "35187093-061c-4d4e-b5fc-e184c4fcdbe6",
   "metadata": {},
   "outputs": [
    {
     "name": "stdout",
     "output_type": "stream",
     "text": [
      "홈 경기: 토트넘의 득점과 유효슈팅\n",
      "FTHG    1.814010\n",
      "HST     7.328502\n",
      "dtype: float64\n",
      "홈 경기: 토트넘의 실점과 상대 유효슈팅\n",
      "FTAG    1.021739\n",
      "AST     4.688406\n",
      "dtype: float64\n",
      "원정 경기: 토트넘의 득점과 유효슈팅\n",
      "FTAG    1.346988\n",
      "AST     5.431325\n",
      "dtype: float64\n",
      "원정 경기: 토트넘의 실점과 상대 유효슈팅\n",
      "FTHG    1.409639\n",
      "HST     5.877108\n",
      "dtype: float64\n",
      "\n"
     ]
    }
   ],
   "source": [
    "#토트넘의 평균적인 성적도 추출해 봅시다.\n",
    "\n",
    "print(\n",
    "    '홈 경기: 토트넘의 득점과 유효슈팅\\n',\n",
    "    leage_tot_home.loc[:,['FTHG', 'HST']].mean(), '\\n',\n",
    "    '홈 경기: 토트넘의 실점과 상대 유효슈팅\\n',\n",
    "    leage_tot_home.loc[:,['FTAG', 'AST']].mean(), '\\n',\n",
    "    '원정 경기: 토트넘의 득점과 유효슈팅\\n',\n",
    "    leage_tot_away.loc[:,['FTAG', 'AST']].mean(), '\\n',\n",
    "    '원정 경기: 토트넘의 실점과 상대 유효슈팅\\n',\n",
    "    leage_tot_away.loc[:,['FTHG', 'HST']].mean(), '\\n',\n",
    "    sep = ''\n",
    ")"
   ]
  },
  {
   "cell_type": "markdown",
   "id": "a97e054c-aab2-4a68-9180-7beedd490667",
   "metadata": {},
   "source": [
    "#### 토트넘의 기록을 우승팀의 기록과 비교하면 \n",
    "\n",
    "홈 경기에서 평균 1.8(우승팀 2.7)의 득점을, 약 7.3(우승팀 9)번의 유효슈팅을 했다. 약 1(우승팀 0.7)점을 실점했고 약 4.6(우승팀 3)번의 유효슈팅을 허용했다.\n",
    "\n",
    "원정 경기에서 약 1.35(우승팀 1.8)점을 득점했고 약 5.4(우승팀 6.5)번의 유효슈팅을 했다. 약 1.4(우승팀 0.9)점을 실점했고 약 5.8(우승팀 4)번의 유효슈팅을 허용했다."
   ]
  },
  {
   "cell_type": "markdown",
   "id": "b5446dde-85ac-4401-a84c-48d0986cdc41",
   "metadata": {},
   "source": [
    "### 즉\n",
    "\n",
    "토트넘은 우승팀의 공격력과 수비력에 비해 상당히 낮은 수치를 보여 주었다."
   ]
  },
  {
   "cell_type": "markdown",
   "id": "d6a7c6e0-5946-41db-a4fa-a1814d519177",
   "metadata": {},
   "source": [
    "# 이번엔 공격력 부분을 살펴보도록 합니다.\n",
    "\n",
    "슈팅 시도 횟수 대비 유효수팅을 몇 개 만들어 내는지를 비교해 봅시다."
   ]
  },
  {
   "cell_type": "code",
   "execution_count": 230,
   "id": "bb072623-6273-46f0-a760-8c77698573cf",
   "metadata": {},
   "outputs": [
    {
     "name": "stdout",
     "output_type": "stream",
     "text": [
      "세 시즌 우승팀의 평균 슈팅 대비 유효슈팅 전환 비율: 47.722%\n",
      "토트넘의 평균 슈팅 대비 유효슈팅 전환 비율: 47.955%\n",
      "프리미어리그 팀의 평균 슈팅 대비 유효슈팅 전환 비율: 45.320%\n"
     ]
    }
   ],
   "source": [
    "winner_shot_hit = [\n",
    "    (leage_winner_00_01_home.loc[:, 'HST'] / leage_winner_00_01_home.loc[:, 'HS']).mean(),\n",
    "    (leage_winner_09_10_home.loc[:, 'HST'] / leage_winner_09_10_home.loc[:, 'HS']).mean(),\n",
    "    (leage_winner_20_21_home.loc[:, 'HST'] / leage_winner_20_21_home.loc[:, 'HS']).mean(),\n",
    "    (leage_winner_00_01_away.loc[:, 'AST'] / leage_winner_00_01_away.loc[:, 'AS']).mean(),\n",
    "    (leage_winner_09_10_away.loc[:, 'AST'] / leage_winner_09_10_away.loc[:, 'AS']).mean(),\n",
    "    (leage_winner_20_21_away.loc[:, 'AST'] / leage_winner_20_21_away.loc[:, 'AS']).mean(),\n",
    "]\n",
    "print(f'세 시즌 우승팀의 평균 슈팅 대비 유효슈팅 전환 비율: {np.mean(winner_shot_hit) * 100:.3f}%')\n",
    "\n",
    "tot_shot_hit = [\n",
    "    (leage_tot_home.loc[:, 'HST'] / leage_tot_home.loc[:, 'HS']).mean(),\n",
    "    (leage_tot_away.loc[:, 'AST'] / leage_tot_away.loc[:, 'AS']).mean(),\n",
    "]\n",
    "print(f'토트넘의 평균 슈팅 대비 유효슈팅 전환 비율: {np.mean(tot_shot_hit) * 100:.3f}%')\n",
    "\n",
    "leage_shot_hit = [\n",
    "    (leage_00.loc[:, 'HST'] / leage_00.loc[:, 'HS']).replace(np.inf, 0).mean(),\n",
    "    (leage_00.loc[:, 'AST'] / leage_00.loc[:, 'AS']).replace(np.inf, 0).mean(),\n",
    "]\n",
    "print(f'프리미어리그 팀의 평균 슈팅 대비 유효슈팅 전환 비율: {np.mean(leage_shot_hit) * 100:.3f}%')\n"
   ]
  },
  {
   "cell_type": "markdown",
   "id": "e11154b5-a61b-44e7-be11-09b1db291b76",
   "metadata": {},
   "source": [
    "### 슈팅 대비 유효슈팅 전환 비율은 토트넘의 평균과 우승팀의 평균이 그렇게 차이나지 않았습니다.\n",
    "\n",
    "이것은 토트넘 공격진의 결정력은 우승팀들과 견주어 볼 때 크게 떨어지지 않았다는 것을 말합니다.\n",
    "\n",
    "실제로도 토트넘은 준수한 공격진을 항상 배출해 낸 것으로 유명합니다.\n",
    "\n",
    "그렇다면 이번에는 슈팅 수 자체가 얼마나 차이나는지 비교해 보겠습니다."
   ]
  },
  {
   "cell_type": "code",
   "execution_count": 238,
   "id": "ba62662a-5d99-4601-823d-da3fe693a29d",
   "metadata": {},
   "outputs": [
    {
     "name": "stdout",
     "output_type": "stream",
     "text": [
      "우승팀들의 경기 당 평균 슈팅은 16.29번 이었습니다.\n",
      "그에 비해 토트넘의 경기 당 평균 슈팅은 13.50번 이었습니다.\n",
      "프리미어리그 팀의 평균 슈팅 횟수는 12.07번 이었습니다.\n"
     ]
    }
   ],
   "source": [
    "winner_shot = [\n",
    "    leage_winner_00_01_home.loc[:, 'HS'].mean(),\n",
    "    leage_winner_09_10_home.loc[:, 'HS'].mean(),\n",
    "    leage_winner_20_21_home.loc[:, 'HS'].mean(),\n",
    "    leage_winner_00_01_away.loc[:, 'AS'].mean(),\n",
    "    leage_winner_09_10_away.loc[:, 'AS'].mean(),\n",
    "    leage_winner_20_21_away.loc[:, 'AS'].mean()\n",
    "]\n",
    "print(f'우승팀들의 경기 당 평균 슈팅은 {np.mean(winner_shot):.2f}번 이었습니다.')\n",
    "\n",
    "tot_shot = [\n",
    "    leage_tot_home.loc[:, 'HS'].mean(),\n",
    "    leage_tot_away.loc[:, 'AS'].mean()\n",
    "]\n",
    "print(f'그에 비해 토트넘의 경기 당 평균 슈팅은 {np.mean(tot_shot):.2f}번 이었습니다.')\n",
    "\n",
    "leage_00_shot = [\n",
    "    leage_00.loc[:, 'HS'].mean(),\n",
    "    leage_00.loc[:, 'AS'].mean()\n",
    "]\n",
    "print(f'프리미어리그 팀의 평균 슈팅 횟수는 {np.mean(leage_00_shot):.2f}번 이었습니다.')"
   ]
  },
  {
   "cell_type": "markdown",
   "id": "3d0afead-c984-47d7-a06b-f18042124445",
   "metadata": {},
   "source": [
    "경기 당 슈팅을 시도하는 횟수 자체가 평균적으로 3번이 적은 것을 알 수 있었습니다.\n",
    "\n",
    "이는 토트넘의 전체적인 선수단의 기회 창출 및 슈팅 기회 창출 능력이 우승팀들에 비해 떨어진다는 것을 나타냅니다.\n",
    "\n",
    "이번에는 슈팅 횟수가 8회보다 적었던 경기의 수를 비교해 봅니다. 평균치가 비슷하더라도 기회를 거의 만들어내지 못한 경기의 수가 많다면 그 경기에서 패배하거나 비길 확률이 더 높을 것이라고 유추해 볼 수 있습니다."
   ]
  },
  {
   "cell_type": "code",
   "execution_count": 246,
   "id": "f8127f0b-49ee-4acc-a5fd-96a0bf918c12",
   "metadata": {},
   "outputs": [
    {
     "name": "stdout",
     "output_type": "stream",
     "text": [
      "우승팀은 평균적으로 시즌당 0.833번의 공격력이 저조한 경기가 있었습니다.\n",
      "토트넘은 평균적으로 시즌당 4.951번의 공격력이 저조한 경기가 있었습니다\n",
      "프리미어리어리그 팀은 평균적으로 시즌당 6.922번의 공격력이 저조한 경기가 있었습니다.\n"
     ]
    }
   ],
   "source": [
    "winner_nojam_game = [\n",
    "    len(leage_winner_00_01_home[leage_winner_00_01_home.HS < 8].HS),\n",
    "    len(leage_winner_00_01_away[leage_winner_00_01_away.AS < 8].AS),\n",
    "    len(leage_winner_09_10_home[leage_winner_09_10_home.HS < 8].HS),\n",
    "    len(leage_winner_09_10_away[leage_winner_09_10_away.AS < 8].AS),\n",
    "    len(leage_winner_20_21_home[leage_winner_20_21_home.HS < 8].HS),\n",
    "    len(leage_winner_20_21_away[leage_winner_20_21_away.AS < 8].AS),\n",
    "]\n",
    "\n",
    "print(f'우승팀은 평균적으로 시즌당 {np.mean(winner_nojam_game):.3f}번의 공격력이 저조한 경기가 있었습니다.')\n",
    "\n",
    "tot_nojam_game = [\n",
    "    len(leage_tot_home[leage_tot_home.HS < 8].HS),\n",
    "    len(leage_tot_away[leage_tot_away.AS < 8].AS)\n",
    "]\n",
    "\n",
    "print(f'토트넘은 평균적으로 시즌당 {sum(tot_nojam_game) / (829 / 38):.3f}번의 공격력이 저조한 경기가 있었습니다')\n",
    "\n",
    "leage_00_nojam_game = (len(leage_00[(leage_00.HS < 8) | (leage_00.AS < 8)])) / (len(leage_00) * 2 / 38)\n",
    "\n",
    "print(f'프리미어리어리그 팀은 평균적으로 시즌당 {leage_00_nojam_game:.3f}번의 공격력이 저조한 경기가 있었습니다.')"
   ]
  },
  {
   "cell_type": "markdown",
   "id": "b0a66f3c-1b60-4379-8363-e0f7a1cdf739",
   "metadata": {},
   "source": [
    "### 드디어 확실히 의미가 있는 차이점을 찾아내었습니다.\n",
    "\n",
    "유효슈팅이 아닌 일반 슈팅 시도가 8번 이하인 경기의 수가 5배 이상 차이나는 것을 알 수 있습니다.\n",
    "\n",
    "따라서 토트넘은 시즌 중 기복이 심한 경기력을 보이거나 강팀을 상대로 일정 수준 이상의 공격도 하지 못하고 일방적으로 패배하는 경기가 시즌 중 평균적으로 5회 정도 나타난다고 해석할 수 있습니다. 이 5번의 경기를 모두 패배하거나 비겼다고 가정할 때, 이러한 특징으로 인해 최대 15점에서 최소 10점의 승점을 잃었다는 것을 가정할 수 있습니다.\n",
    "\n",
    "실제로 프리미어리그에서 슈팅 수가 8개보다 낮을 때, 승률을 분석해 보겠습니다."
   ]
  },
  {
   "cell_type": "code",
   "execution_count": 129,
   "id": "81270a35-33c5-4dba-886c-bef786d2caa0",
   "metadata": {},
   "outputs": [
    {
     "name": "stdout",
     "output_type": "stream",
     "text": [
      "슈팅 수가 8개 이하일 때 프리미어리그팀이 승리를 거둔 경기는 19.4%였습니다.\n"
     ]
    }
   ],
   "source": [
    "nojam_game_winrate = (\n",
    "    len(leage_00[((leage_00.HS < 8) & (leage_00.FTR == 'H')) | ((leage_00.AS < 8) & (leage_00.FTR == 'A'))])\n",
    "    /\n",
    "    len(leage_00[(leage_00.HS < 8) | (leage_00.AS < 8)])\n",
    ")\n",
    "print(f'슈팅 수가 8개 이하일 때 프리미어리그팀이 승리를 거둔 경기는 {nojam_game_winrate * 100:.1f}%였습니다.')"
   ]
  },
  {
   "cell_type": "markdown",
   "id": "e7dee20a-a48a-4ed9-839c-75b60b7083a9",
   "metadata": {},
   "source": [
    "## 토트넘의 공격에 관한 분석을 정리해 보겠습니다.\n",
    "\n",
    "| \\ | 우승팀 분석 | 토트넘 분석 | 프리미어리그 평균 |\n",
    "|:------------------------|:---------------:|:---------------:|:---------------:|\n",
    "|홈 득점|2.7|1.8|1.5|\n",
    "|원정 득점|1.8|1.35|1.15|\n",
    "|홈 유효 슈팅|9|7.3|6.1|\n",
    "|원정 유효 슈팅|6.5|5.4|4.7|\n",
    "|슈팅 대비 유효슈팅 비율|47.722%|47.955%|45.320%|\n",
    "|평균 슈팅 횟수|16.29|13.50|12.07|\n",
    "|저조한 경기력|0.833|<span style = \"color : red\">4.951</span>|6.922|\n"
   ]
  },
  {
   "cell_type": "markdown",
   "id": "c599169e-9024-490b-a095-d365cbb9a14b",
   "metadata": {},
   "source": [
    "# 이번엔 토트넘의 수비 데이터를 분석해 보겠습니다.\n",
    "\n",
    "먼저 실점 자체를 비교해 보겠습니다."
   ]
  },
  {
   "cell_type": "code",
   "execution_count": 144,
   "id": "ad8692d7-aaa9-4ce1-88c6-42affbe52400",
   "metadata": {},
   "outputs": [
    {
     "name": "stdout",
     "output_type": "stream",
     "text": [
      "우승팀들의 경기당 평균 실점은 0.833점이었습니다.\n",
      "토트넘의 경기당 평균 실점은 1.216점이었습니다.\n",
      "프리미어리그 팀의 평균 실점은 1.156점이었습니다.\n"
     ]
    }
   ],
   "source": [
    "#위에서 사용한 코드를 재사용합시다.\n",
    "# print(\n",
    "#     '홈: 실점과 상대 유효슈팅\\n',\n",
    "#     leage_winner_00_01_home.loc[:,['FTAG', 'AST']].mean(), '\\n',\n",
    "#     leage_winner_09_10_home.loc[:,['FTAG', 'AST']].mean(), '\\n',\n",
    "#     leage_winner_20_21_home.loc[:,['FTAG', 'AST']].mean(), '\\n',\n",
    "#     sep = ''\n",
    "# )\n",
    "# print(\n",
    "#     '원정: 실점과 상대 유효슈팅\\n',\n",
    "#     leage_winner_00_01_away.loc[:,['FTHG', 'HST']].mean(), '\\n',\n",
    "#     leage_winner_09_10_away.loc[:,['FTHG', 'HST']].mean(), '\\n',\n",
    "#     leage_winner_20_21_away.loc[:,['FTHG', 'HST']].mean(), '\\n',\n",
    "#     sep = ''\n",
    "# )\n",
    "\n",
    "winner_lose_score = [\n",
    "    leage_winner_00_01_home.loc[:,['FTAG']].mean(),\n",
    "    leage_winner_00_01_away.loc[:,['FTHG']].mean(),\n",
    "    leage_winner_09_10_home.loc[:,['FTAG']].mean(),\n",
    "    leage_winner_09_10_away.loc[:,['FTHG']].mean(),\n",
    "    leage_winner_20_21_home.loc[:,['FTAG']].mean(),\n",
    "    leage_winner_20_21_away.loc[:,['FTHG']].mean(),\n",
    "]\n",
    "print(f'우승팀들의 경기당 평균 실점은 {np.mean(winner_lose_score):.3f}점이었습니다.')\n",
    "\n",
    "tot_lose_score = [\n",
    "    leage_tot_home.FTAG.mean(),\n",
    "    leage_tot_away.FTHG.mean()\n",
    "]\n",
    "print(f'토트넘의 경기당 평균 실점은 {np.mean(tot_lose_score):.3f}점이었습니다.')\n",
    "\n",
    "print(f'프리미어리그 팀의 평균 실점은 {leage_00.FTAG.mean():.3f}점이었습니다.')"
   ]
  },
  {
   "cell_type": "markdown",
   "id": "e93d59a5-8882-44f3-ab5d-a7eee1b733aa",
   "metadata": {},
   "source": [
    "### 토트넘은 프리미어리그 평균 실점보다 더 많은 점수를 실점하고 있었습니다.\n",
    "\n",
    "벌써부터 수비력에 문제가 있다는 예상을 할 수 있습니다.\n",
    "\n",
    "수비력을 조금 더 자세히 살펴보며 어떤 약점이 있는지 더 알아보겠습니다.\n",
    "\n",
    "이번에는 경기당 상대 슈팅 횟수와 실점 간의 관계에 대해 살펴보겠습니다."
   ]
  },
  {
   "cell_type": "code",
   "execution_count": 271,
   "id": "a9beea2a-6e00-436f-8346-af772bb2b533",
   "metadata": {},
   "outputs": [
    {
     "name": "stdout",
     "output_type": "stream",
     "text": [
      "우승팀은 경기당 상대에게 평균 8.14번의 슈팅을 허용했습니다.\n",
      "토트넘은 경기당 상대에게 평균 11.51번의 슈팅을 허용했습니다.\n",
      "프리미어리그 팀은 상대에게 평균 12.07번의 슈팅을 허용했습니다.\n"
     ]
    }
   ],
   "source": [
    "#먼저 상대팀에게 몇 번의 슈팅을 허용하는지를 보겠습니다.\n",
    "\n",
    "winner_enermy_shot = [\n",
    "    leage_winner_00_01_home.loc[:,['AS']],\n",
    "    leage_winner_00_01_away.loc[:,['HS']],\n",
    "    leage_winner_09_10_home.loc[:,['AS']],\n",
    "    leage_winner_09_10_away.loc[:,['HS']],\n",
    "    leage_winner_20_21_home.loc[:,['AS']],\n",
    "    leage_winner_20_21_away.loc[:,['HS']],\n",
    "]\n",
    "\n",
    "print(f'우승팀은 경기당 상대에게 평균 {np.mean(winner_enermy_shot):.2f}번의 슈팅을 허용했습니다.')\n",
    "\n",
    "tot_enermy_shot = [\n",
    "    leage_tot_home.loc[:,['AS']].mean(),\n",
    "    leage_tot_away.loc[:,['HS']].mean()\n",
    "]\n",
    "\n",
    "print(f'토트넘은 경기당 상대에게 평균 {np.mean(tot_enermy_shot):.2f}번의 슈팅을 허용했습니다.')\n",
    "\n",
    "leage_00_enermy_shot = [\n",
    "    leage_00.loc[:, 'HS'].mean(),\n",
    "    leage_00.loc[:, 'AS'].mean()\n",
    "]\n",
    "print(f'프리미어리그 팀은 상대에게 평균 {np.mean(leage_00_enermy_shot):.2f}번의 슈팅을 허용했습니다.')"
   ]
  },
  {
   "cell_type": "markdown",
   "id": "2cc3b223-2cd4-4c43-a339-eb099dc9110a",
   "metadata": {},
   "source": [
    "## 토트넘의 상대 팀의 슈팅을 저지하는 능력은 프리미어리그 평균보다 살짝 높은 정도로 나타났습니다.\n",
    "\n",
    "다른 여러 가지 수비에 관련된 지표가 있겠지만, 유의미한 분석 결과를 기대하기 어렵기에 더 이상 수비력에 관련된 분석은 하지 않겠습니다.\n",
    "\n",
    "\n",
    "축구는 단순한 스포츠이기에, 골을 많이 넣고 골을 많이 막으면 이기는 건 당연합니다. 하지만 이런 득실차가 곧바로 순위 또는 경기의 승패를 결정짓는 것은 아닙니다. 득실차가 높아도 순위가 뒤쳐질 수 있고, 득실차가 낮아도 순위가 더 높을 수도 있죠. 이러한 것을 결정짓는 것은 결국 그 경기를 누가 이겼느냐입니다.\n",
    "\n",
    "이번에는 이길 경기를 얼마나 이겼느냐, 즉 토트넘의 게임을 지배하는 능력을 분석해 보겠습니다.\n",
    "\n",
    "전반전을 앞선 상태로 마친 경기 중, 승리로 끝마친 경기가 얼마나 되는지 살펴보겠습니다."
   ]
  },
  {
   "cell_type": "code",
   "execution_count": 285,
   "id": "0baa69d4-9bdb-4548-ba13-9091558b2a13",
   "metadata": {},
   "outputs": [
    {
     "name": "stdout",
     "output_type": "stream",
     "text": [
      "토트넘이 전반전을 이긴 상태로 마친 경기를 승리로 마친 경기의 비율은 56.90% 입니다.\n",
      "반면 프리미어리그 20-21시즌 우승팀의 같은 기록은 70.88% 였습니다.\n"
     ]
    }
   ],
   "source": [
    "tot_rule_game = ((\n",
    "    len(leage_tot_home[(leage_tot_home.HTR == 'H') & (leage_tot_home.FTR == 'H')])\n",
    "    /\n",
    "    len(leage_tot_home[(leage_tot_home.FTR == 'H')])\n",
    ") + (\n",
    "    len(leage_tot_away[(leage_tot_away.HTR == 'A') & (leage_tot_away.FTR == 'A')])\n",
    "    /\n",
    "    len(leage_tot_away[(leage_tot_away.FTR == 'A')])\n",
    ")) / 2 * 100\n",
    "print(f'토트넘이 전반전을 이긴 상태로 마친 경기를 승리로 마친 경기의 비율은 {tot_rule_game:.2f}% 입니다.')\n",
    "\n",
    "winner_rule_game = ((\n",
    "    len(leage_winner_20_21_home[(leage_winner_20_21_home.HTR == 'H') & (leage_winner_20_21_home.FTR == 'H')])\n",
    "    /\n",
    "    len(leage_winner_20_21_home[(leage_winner_20_21_home.FTR == 'H')])\n",
    ") + (\n",
    "    len(leage_winner_20_21_away[(leage_winner_20_21_away.HTR == 'A') & (leage_winner_20_21_away.FTR == 'A')])\n",
    "    /\n",
    "    len(leage_winner_20_21_away[(leage_winner_20_21_away.FTR == 'A')])\n",
    ")) / 2 * 100\n",
    "\n",
    "print(f'반면 프리미어리그 20-21시즌 우승팀의 같은 기록은 {winner_rule_game:.2f}% 였습니다.')"
   ]
  },
  {
   "cell_type": "code",
   "execution_count": null,
   "id": "6c93ed77-8aeb-4344-8915-720f470cd2b7",
   "metadata": {},
   "outputs": [],
   "source": []
  }
 ],
 "metadata": {
  "kernelspec": {
   "display_name": "Python 3 (ipykernel)",
   "language": "python",
   "name": "python3"
  },
  "language_info": {
   "codemirror_mode": {
    "name": "ipython",
    "version": 3
   },
   "file_extension": ".py",
   "mimetype": "text/x-python",
   "name": "python",
   "nbconvert_exporter": "python",
   "pygments_lexer": "ipython3",
   "version": "3.9.13"
  }
 },
 "nbformat": 4,
 "nbformat_minor": 5
}
